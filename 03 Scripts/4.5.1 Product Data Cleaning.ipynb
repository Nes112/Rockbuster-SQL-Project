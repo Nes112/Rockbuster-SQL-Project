{
 "cells": [
  {
   "cell_type": "markdown",
   "id": "f36093ee",
   "metadata": {},
   "source": [
    "**Contents**\n",
    "\n",
    "01 Importing Libraries and Datasets\n",
    "\n",
    "02 Mixed Data Test\n",
    "\n",
    "03 Null Values\n",
    "\n",
    "04 Duplicates\n",
    "\n",
    "05 Export"
   ]
  },
  {
   "cell_type": "markdown",
   "id": "29b6b477",
   "metadata": {},
   "source": [
    "# 01. Importing Libraries and Datasets"
   ]
  },
  {
   "cell_type": "code",
   "execution_count": 5,
   "id": "a09be3c3",
   "metadata": {},
   "outputs": [],
   "source": [
    "# Import libraries\n",
    "import pandas as pd\n",
    "import numpy as np\n",
    "import os"
   ]
  },
  {
   "cell_type": "code",
   "execution_count": 6,
   "id": "d038c796",
   "metadata": {},
   "outputs": [],
   "source": [
    "# Set Path\n",
    "path = r'C:\\Users\\Forrest\\Desktop\\Work\\CareerFoundry\\Python\\2022-10 Instacart Basket Analysis'"
   ]
  },
  {
   "cell_type": "code",
   "execution_count": 7,
   "id": "af1c8bad",
   "metadata": {},
   "outputs": [],
   "source": [
    "# Import orders.csv\n",
    "df_ords = pd.read_csv(os.path.join(path, '02 Data', 'Prepared Data', 'orders_wrangled.csv'), index_col = 0)"
   ]
  },
  {
   "cell_type": "code",
   "execution_count": 8,
   "id": "585ecfbd",
   "metadata": {},
   "outputs": [],
   "source": [
    "# Import products.csv\n",
    "df_prods = pd.read_csv(os.path.join(path, '02 Data', 'Raw Data', 'products.csv'), index_col = 0)"
   ]
  },
  {
   "cell_type": "markdown",
   "id": "02e3a6d4",
   "metadata": {},
   "source": [
    "# 02. Mixed Data Test"
   ]
  },
  {
   "cell_type": "code",
   "execution_count": 9,
   "id": "8c729f16",
   "metadata": {},
   "outputs": [],
   "source": [
    "# Create test df\n",
    "\n",
    "df_test = pd.DataFrame()"
   ]
  },
  {
   "cell_type": "code",
   "execution_count": 10,
   "id": "3be032f0",
   "metadata": {},
   "outputs": [],
   "source": [
    "# Create column with mixed data types\n",
    "\n",
    "df_test['mix'] = ['a', 'b', 1, True]"
   ]
  },
  {
   "cell_type": "code",
   "execution_count": 11,
   "id": "7fc5ff56",
   "metadata": {},
   "outputs": [
    {
     "name": "stdout",
     "output_type": "stream",
     "text": [
      "mix\n"
     ]
    }
   ],
   "source": [
    "# Check for mixed data types\n",
    "# Output is list of columns with mixed data types\n",
    "\n",
    "for col in df_test.columns.tolist():\n",
    "  weird = (df_test[[col]].applymap(type) != df_test[[col]].iloc[0].apply(type)).any(axis = 1)\n",
    "  if len (df_test[weird]) > 0:\n",
    "    print (col)"
   ]
  },
  {
   "cell_type": "markdown",
   "id": "7e43e568",
   "metadata": {},
   "source": [
    "# 03. Null values"
   ]
  },
  {
   "cell_type": "code",
   "execution_count": 12,
   "id": "71fab80d",
   "metadata": {},
   "outputs": [
    {
     "data": {
      "text/plain": [
       "product_name     16\n",
       "aisle_id          0\n",
       "department_id     0\n",
       "prices            0\n",
       "dtype: int64"
      ]
     },
     "execution_count": 12,
     "metadata": {},
     "output_type": "execute_result"
    }
   ],
   "source": [
    "# Checking number of cells with null values\n",
    "\n",
    "df_prods.isnull().sum()"
   ]
  },
  {
   "cell_type": "code",
   "execution_count": 13,
   "id": "af4889dc",
   "metadata": {},
   "outputs": [],
   "source": [
    "# Create new df without null values\n",
    "\n",
    "df_prods_clean = df_prods[df_prods['product_name'].isnull() == False]"
   ]
  },
  {
   "cell_type": "markdown",
   "id": "b729bd75",
   "metadata": {},
   "source": [
    "# 04. Duplicates"
   ]
  },
  {
   "cell_type": "code",
   "execution_count": 21,
   "id": "489b43d8",
   "metadata": {},
   "outputs": [
    {
     "data": {
      "text/plain": [
       "(5, 4)"
      ]
     },
     "execution_count": 21,
     "metadata": {},
     "output_type": "execute_result"
    }
   ],
   "source": [
    "# Check for duplicates in prods df\n",
    "\n",
    "df_dups = df_prods_clean[df_prods_clean.duplicated()]"
   ]
  },
  {
   "cell_type": "code",
   "execution_count": 16,
   "id": "7412b51e",
   "metadata": {
    "scrolled": true
   },
   "outputs": [
    {
     "data": {
      "text/html": [
       "<div>\n",
       "<style scoped>\n",
       "    .dataframe tbody tr th:only-of-type {\n",
       "        vertical-align: middle;\n",
       "    }\n",
       "\n",
       "    .dataframe tbody tr th {\n",
       "        vertical-align: top;\n",
       "    }\n",
       "\n",
       "    .dataframe thead th {\n",
       "        text-align: right;\n",
       "    }\n",
       "</style>\n",
       "<table border=\"1\" class=\"dataframe\">\n",
       "  <thead>\n",
       "    <tr style=\"text-align: right;\">\n",
       "      <th></th>\n",
       "      <th>product_name</th>\n",
       "      <th>aisle_id</th>\n",
       "      <th>department_id</th>\n",
       "      <th>prices</th>\n",
       "    </tr>\n",
       "    <tr>\n",
       "      <th>product_id</th>\n",
       "      <th></th>\n",
       "      <th></th>\n",
       "      <th></th>\n",
       "      <th></th>\n",
       "    </tr>\n",
       "  </thead>\n",
       "  <tbody>\n",
       "    <tr>\n",
       "      <th>462</th>\n",
       "      <td>Fiber 4g Gummy Dietary Supplement</td>\n",
       "      <td>70</td>\n",
       "      <td>11</td>\n",
       "      <td>4.8</td>\n",
       "    </tr>\n",
       "    <tr>\n",
       "      <th>18458</th>\n",
       "      <td>Ranger IPA</td>\n",
       "      <td>27</td>\n",
       "      <td>5</td>\n",
       "      <td>9.2</td>\n",
       "    </tr>\n",
       "    <tr>\n",
       "      <th>26808</th>\n",
       "      <td>Black House Coffee Roasty Stout Beer</td>\n",
       "      <td>27</td>\n",
       "      <td>5</td>\n",
       "      <td>13.4</td>\n",
       "    </tr>\n",
       "    <tr>\n",
       "      <th>35306</th>\n",
       "      <td>Gluten Free Organic Peanut Butter &amp; Chocolate ...</td>\n",
       "      <td>121</td>\n",
       "      <td>14</td>\n",
       "      <td>6.8</td>\n",
       "    </tr>\n",
       "    <tr>\n",
       "      <th>35491</th>\n",
       "      <td>Adore Forever Body Wash</td>\n",
       "      <td>127</td>\n",
       "      <td>11</td>\n",
       "      <td>9.9</td>\n",
       "    </tr>\n",
       "  </tbody>\n",
       "</table>\n",
       "</div>"
      ],
      "text/plain": [
       "                                                 product_name  aisle_id  \\\n",
       "product_id                                                                \n",
       "462                         Fiber 4g Gummy Dietary Supplement        70   \n",
       "18458                                              Ranger IPA        27   \n",
       "26808                    Black House Coffee Roasty Stout Beer        27   \n",
       "35306       Gluten Free Organic Peanut Butter & Chocolate ...       121   \n",
       "35491                                 Adore Forever Body Wash       127   \n",
       "\n",
       "            department_id  prices  \n",
       "product_id                         \n",
       "462                    11     4.8  \n",
       "18458                   5     9.2  \n",
       "26808                   5    13.4  \n",
       "35306                  14     6.8  \n",
       "35491                  11     9.9  "
      ]
     },
     "execution_count": 16,
     "metadata": {},
     "output_type": "execute_result"
    }
   ],
   "source": [
    "df_dups"
   ]
  },
  {
   "cell_type": "code",
   "execution_count": 17,
   "id": "aa08c380",
   "metadata": {},
   "outputs": [],
   "source": [
    "# Drop duplicates\n",
    "\n",
    "df_prods_clean_no_dups = df_prods_clean.drop_duplicates()"
   ]
  },
  {
   "cell_type": "markdown",
   "id": "b75a39a6",
   "metadata": {},
   "source": [
    "# 05. Export"
   ]
  },
  {
   "cell_type": "code",
   "execution_count": 19,
   "id": "477f7c01",
   "metadata": {},
   "outputs": [],
   "source": [
    "# Export cleaned csv\n",
    "\n",
    "df_prods_clean_no_dups.to_csv(os.path.join(path, '02 Data','Prepared Data', 'products_cleaned.csv'))"
   ]
  }
 ],
 "metadata": {
  "kernelspec": {
   "display_name": "Python 3 (ipykernel)",
   "language": "python",
   "name": "python3"
  },
  "language_info": {
   "codemirror_mode": {
    "name": "ipython",
    "version": 3
   },
   "file_extension": ".py",
   "mimetype": "text/x-python",
   "name": "python",
   "nbconvert_exporter": "python",
   "pygments_lexer": "ipython3",
   "version": "3.9.12"
  }
 },
 "nbformat": 4,
 "nbformat_minor": 5
}
