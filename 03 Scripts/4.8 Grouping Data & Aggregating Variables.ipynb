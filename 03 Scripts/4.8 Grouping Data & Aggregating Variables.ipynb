{
 "cells": [
  {
   "cell_type": "markdown",
   "id": "090e7f4f",
   "metadata": {},
   "source": [
    "**Contents**\n",
    "\n",
    "01 Importing Libraries and Dataset\n",
    "\n",
    "02 Mean order number\n",
    "\n",
    "02.1 Mean order number in dataframe subset\n",
    "\n",
    "02.2 Mean order number in full dataframe\n",
    "\n",
    "03 Loyalty Flag\n",
    "\n",
    "03.1 Customer loyalty analysis\n",
    "\n",
    "04 Spending Flag\n",
    "\n",
    "05 Order Frequency flag\n",
    "\n",
    "06 Export"
   ]
  },
  {
   "cell_type": "markdown",
   "id": "482d5d92",
   "metadata": {},
   "source": [
    "# 01. Importing Libraries and Dataset"
   ]
  },
  {
   "cell_type": "code",
   "execution_count": 1,
   "id": "f93decac",
   "metadata": {},
   "outputs": [],
   "source": [
    "# Import libraries\n",
    "import pandas as pd\n",
    "import numpy as np\n",
    "import os"
   ]
  },
  {
   "cell_type": "code",
   "execution_count": 2,
   "id": "e06dff8f",
   "metadata": {},
   "outputs": [],
   "source": [
    "# Set Path\n",
    "path = r'C:\\Users\\Forrest\\Desktop\\Work\\CareerFoundry\\Python\\2022-10 Instacart Basket Analysis'"
   ]
  },
  {
   "cell_type": "code",
   "execution_count": 4,
   "id": "97f62eeb",
   "metadata": {},
   "outputs": [],
   "source": [
    "# Import orders_products_master\n",
    "ords_prods_merge = pd.read_pickle(os.path.join(path, '02 Data', 'Prepared Data', 'orders_products_master_newcols.pkl'))"
   ]
  },
  {
   "cell_type": "code",
   "execution_count": 27,
   "id": "e0298c80",
   "metadata": {},
   "outputs": [
    {
     "data": {
      "text/html": [
       "<div>\n",
       "<style scoped>\n",
       "    .dataframe tbody tr th:only-of-type {\n",
       "        vertical-align: middle;\n",
       "    }\n",
       "\n",
       "    .dataframe tbody tr th {\n",
       "        vertical-align: top;\n",
       "    }\n",
       "\n",
       "    .dataframe thead th {\n",
       "        text-align: right;\n",
       "    }\n",
       "</style>\n",
       "<table border=\"1\" class=\"dataframe\">\n",
       "  <thead>\n",
       "    <tr style=\"text-align: right;\">\n",
       "      <th></th>\n",
       "      <th>order_id</th>\n",
       "      <th>user_id</th>\n",
       "      <th>order_number</th>\n",
       "      <th>orders_day_of_week</th>\n",
       "      <th>order_hour_of_day</th>\n",
       "      <th>days_since_prior_order</th>\n",
       "      <th>product_id</th>\n",
       "      <th>add_to_cart_order</th>\n",
       "      <th>reordered</th>\n",
       "      <th>product_name</th>\n",
       "      <th>aisle_id</th>\n",
       "      <th>department_id</th>\n",
       "      <th>prices</th>\n",
       "      <th>_merge</th>\n",
       "      <th>price_range_loc</th>\n",
       "      <th>busiest_day</th>\n",
       "      <th>busiest_days</th>\n",
       "      <th>busiest_hours</th>\n",
       "      <th>max_order</th>\n",
       "      <th>loyalty_flag</th>\n",
       "    </tr>\n",
       "  </thead>\n",
       "  <tbody>\n",
       "    <tr>\n",
       "      <th>0</th>\n",
       "      <td>2539329</td>\n",
       "      <td>1</td>\n",
       "      <td>1</td>\n",
       "      <td>2</td>\n",
       "      <td>8</td>\n",
       "      <td>NaN</td>\n",
       "      <td>196</td>\n",
       "      <td>1</td>\n",
       "      <td>0</td>\n",
       "      <td>Soda</td>\n",
       "      <td>77.0</td>\n",
       "      <td>7.0</td>\n",
       "      <td>9.0</td>\n",
       "      <td>both</td>\n",
       "      <td>Mid-range product</td>\n",
       "      <td>Regularly busy</td>\n",
       "      <td>Regularly busy days</td>\n",
       "      <td>Average orders</td>\n",
       "      <td>10</td>\n",
       "      <td>New customer</td>\n",
       "    </tr>\n",
       "    <tr>\n",
       "      <th>1</th>\n",
       "      <td>2539329</td>\n",
       "      <td>1</td>\n",
       "      <td>1</td>\n",
       "      <td>2</td>\n",
       "      <td>8</td>\n",
       "      <td>NaN</td>\n",
       "      <td>14084</td>\n",
       "      <td>2</td>\n",
       "      <td>0</td>\n",
       "      <td>Organic Unsweetened Vanilla Almond Milk</td>\n",
       "      <td>91.0</td>\n",
       "      <td>16.0</td>\n",
       "      <td>12.5</td>\n",
       "      <td>both</td>\n",
       "      <td>Mid-range product</td>\n",
       "      <td>Regularly busy</td>\n",
       "      <td>Regularly busy days</td>\n",
       "      <td>Average orders</td>\n",
       "      <td>10</td>\n",
       "      <td>New customer</td>\n",
       "    </tr>\n",
       "    <tr>\n",
       "      <th>2</th>\n",
       "      <td>2539329</td>\n",
       "      <td>1</td>\n",
       "      <td>1</td>\n",
       "      <td>2</td>\n",
       "      <td>8</td>\n",
       "      <td>NaN</td>\n",
       "      <td>12427</td>\n",
       "      <td>3</td>\n",
       "      <td>0</td>\n",
       "      <td>Original Beef Jerky</td>\n",
       "      <td>23.0</td>\n",
       "      <td>19.0</td>\n",
       "      <td>4.4</td>\n",
       "      <td>both</td>\n",
       "      <td>Low-range product</td>\n",
       "      <td>Regularly busy</td>\n",
       "      <td>Regularly busy days</td>\n",
       "      <td>Average orders</td>\n",
       "      <td>10</td>\n",
       "      <td>New customer</td>\n",
       "    </tr>\n",
       "    <tr>\n",
       "      <th>3</th>\n",
       "      <td>2539329</td>\n",
       "      <td>1</td>\n",
       "      <td>1</td>\n",
       "      <td>2</td>\n",
       "      <td>8</td>\n",
       "      <td>NaN</td>\n",
       "      <td>26088</td>\n",
       "      <td>4</td>\n",
       "      <td>0</td>\n",
       "      <td>Aged White Cheddar Popcorn</td>\n",
       "      <td>23.0</td>\n",
       "      <td>19.0</td>\n",
       "      <td>4.7</td>\n",
       "      <td>both</td>\n",
       "      <td>Low-range product</td>\n",
       "      <td>Regularly busy</td>\n",
       "      <td>Regularly busy days</td>\n",
       "      <td>Average orders</td>\n",
       "      <td>10</td>\n",
       "      <td>New customer</td>\n",
       "    </tr>\n",
       "    <tr>\n",
       "      <th>4</th>\n",
       "      <td>2539329</td>\n",
       "      <td>1</td>\n",
       "      <td>1</td>\n",
       "      <td>2</td>\n",
       "      <td>8</td>\n",
       "      <td>NaN</td>\n",
       "      <td>26405</td>\n",
       "      <td>5</td>\n",
       "      <td>0</td>\n",
       "      <td>XL Pick-A-Size Paper Towel Rolls</td>\n",
       "      <td>54.0</td>\n",
       "      <td>17.0</td>\n",
       "      <td>1.0</td>\n",
       "      <td>both</td>\n",
       "      <td>Low-range product</td>\n",
       "      <td>Regularly busy</td>\n",
       "      <td>Regularly busy days</td>\n",
       "      <td>Average orders</td>\n",
       "      <td>10</td>\n",
       "      <td>New customer</td>\n",
       "    </tr>\n",
       "    <tr>\n",
       "      <th>5</th>\n",
       "      <td>2398795</td>\n",
       "      <td>1</td>\n",
       "      <td>2</td>\n",
       "      <td>3</td>\n",
       "      <td>7</td>\n",
       "      <td>15.0</td>\n",
       "      <td>196</td>\n",
       "      <td>1</td>\n",
       "      <td>1</td>\n",
       "      <td>Soda</td>\n",
       "      <td>77.0</td>\n",
       "      <td>7.0</td>\n",
       "      <td>9.0</td>\n",
       "      <td>both</td>\n",
       "      <td>Mid-range product</td>\n",
       "      <td>Regularly busy</td>\n",
       "      <td>Least busy 2 days</td>\n",
       "      <td>Average orders</td>\n",
       "      <td>10</td>\n",
       "      <td>New customer</td>\n",
       "    </tr>\n",
       "    <tr>\n",
       "      <th>6</th>\n",
       "      <td>2398795</td>\n",
       "      <td>1</td>\n",
       "      <td>2</td>\n",
       "      <td>3</td>\n",
       "      <td>7</td>\n",
       "      <td>15.0</td>\n",
       "      <td>10258</td>\n",
       "      <td>2</td>\n",
       "      <td>0</td>\n",
       "      <td>Pistachios</td>\n",
       "      <td>117.0</td>\n",
       "      <td>19.0</td>\n",
       "      <td>3.0</td>\n",
       "      <td>both</td>\n",
       "      <td>Low-range product</td>\n",
       "      <td>Regularly busy</td>\n",
       "      <td>Least busy 2 days</td>\n",
       "      <td>Average orders</td>\n",
       "      <td>10</td>\n",
       "      <td>New customer</td>\n",
       "    </tr>\n",
       "    <tr>\n",
       "      <th>7</th>\n",
       "      <td>2398795</td>\n",
       "      <td>1</td>\n",
       "      <td>2</td>\n",
       "      <td>3</td>\n",
       "      <td>7</td>\n",
       "      <td>15.0</td>\n",
       "      <td>12427</td>\n",
       "      <td>3</td>\n",
       "      <td>1</td>\n",
       "      <td>Original Beef Jerky</td>\n",
       "      <td>23.0</td>\n",
       "      <td>19.0</td>\n",
       "      <td>4.4</td>\n",
       "      <td>both</td>\n",
       "      <td>Low-range product</td>\n",
       "      <td>Regularly busy</td>\n",
       "      <td>Least busy 2 days</td>\n",
       "      <td>Average orders</td>\n",
       "      <td>10</td>\n",
       "      <td>New customer</td>\n",
       "    </tr>\n",
       "    <tr>\n",
       "      <th>8</th>\n",
       "      <td>2398795</td>\n",
       "      <td>1</td>\n",
       "      <td>2</td>\n",
       "      <td>3</td>\n",
       "      <td>7</td>\n",
       "      <td>15.0</td>\n",
       "      <td>13176</td>\n",
       "      <td>4</td>\n",
       "      <td>0</td>\n",
       "      <td>Bag of Organic Bananas</td>\n",
       "      <td>24.0</td>\n",
       "      <td>4.0</td>\n",
       "      <td>10.3</td>\n",
       "      <td>both</td>\n",
       "      <td>Mid-range product</td>\n",
       "      <td>Regularly busy</td>\n",
       "      <td>Least busy 2 days</td>\n",
       "      <td>Average orders</td>\n",
       "      <td>10</td>\n",
       "      <td>New customer</td>\n",
       "    </tr>\n",
       "    <tr>\n",
       "      <th>9</th>\n",
       "      <td>2398795</td>\n",
       "      <td>1</td>\n",
       "      <td>2</td>\n",
       "      <td>3</td>\n",
       "      <td>7</td>\n",
       "      <td>15.0</td>\n",
       "      <td>26088</td>\n",
       "      <td>5</td>\n",
       "      <td>1</td>\n",
       "      <td>Aged White Cheddar Popcorn</td>\n",
       "      <td>23.0</td>\n",
       "      <td>19.0</td>\n",
       "      <td>4.7</td>\n",
       "      <td>both</td>\n",
       "      <td>Low-range product</td>\n",
       "      <td>Regularly busy</td>\n",
       "      <td>Least busy 2 days</td>\n",
       "      <td>Average orders</td>\n",
       "      <td>10</td>\n",
       "      <td>New customer</td>\n",
       "    </tr>\n",
       "  </tbody>\n",
       "</table>\n",
       "</div>"
      ],
      "text/plain": [
       "   order_id  user_id  order_number  orders_day_of_week  order_hour_of_day  \\\n",
       "0   2539329        1             1                   2                  8   \n",
       "1   2539329        1             1                   2                  8   \n",
       "2   2539329        1             1                   2                  8   \n",
       "3   2539329        1             1                   2                  8   \n",
       "4   2539329        1             1                   2                  8   \n",
       "5   2398795        1             2                   3                  7   \n",
       "6   2398795        1             2                   3                  7   \n",
       "7   2398795        1             2                   3                  7   \n",
       "8   2398795        1             2                   3                  7   \n",
       "9   2398795        1             2                   3                  7   \n",
       "\n",
       "   days_since_prior_order  product_id  add_to_cart_order  reordered  \\\n",
       "0                     NaN         196                  1          0   \n",
       "1                     NaN       14084                  2          0   \n",
       "2                     NaN       12427                  3          0   \n",
       "3                     NaN       26088                  4          0   \n",
       "4                     NaN       26405                  5          0   \n",
       "5                    15.0         196                  1          1   \n",
       "6                    15.0       10258                  2          0   \n",
       "7                    15.0       12427                  3          1   \n",
       "8                    15.0       13176                  4          0   \n",
       "9                    15.0       26088                  5          1   \n",
       "\n",
       "                              product_name  aisle_id  department_id  prices  \\\n",
       "0                                     Soda      77.0            7.0     9.0   \n",
       "1  Organic Unsweetened Vanilla Almond Milk      91.0           16.0    12.5   \n",
       "2                      Original Beef Jerky      23.0           19.0     4.4   \n",
       "3               Aged White Cheddar Popcorn      23.0           19.0     4.7   \n",
       "4         XL Pick-A-Size Paper Towel Rolls      54.0           17.0     1.0   \n",
       "5                                     Soda      77.0            7.0     9.0   \n",
       "6                               Pistachios     117.0           19.0     3.0   \n",
       "7                      Original Beef Jerky      23.0           19.0     4.4   \n",
       "8                   Bag of Organic Bananas      24.0            4.0    10.3   \n",
       "9               Aged White Cheddar Popcorn      23.0           19.0     4.7   \n",
       "\n",
       "  _merge    price_range_loc     busiest_day         busiest_days  \\\n",
       "0   both  Mid-range product  Regularly busy  Regularly busy days   \n",
       "1   both  Mid-range product  Regularly busy  Regularly busy days   \n",
       "2   both  Low-range product  Regularly busy  Regularly busy days   \n",
       "3   both  Low-range product  Regularly busy  Regularly busy days   \n",
       "4   both  Low-range product  Regularly busy  Regularly busy days   \n",
       "5   both  Mid-range product  Regularly busy    Least busy 2 days   \n",
       "6   both  Low-range product  Regularly busy    Least busy 2 days   \n",
       "7   both  Low-range product  Regularly busy    Least busy 2 days   \n",
       "8   both  Mid-range product  Regularly busy    Least busy 2 days   \n",
       "9   both  Low-range product  Regularly busy    Least busy 2 days   \n",
       "\n",
       "    busiest_hours  max_order  loyalty_flag  \n",
       "0  Average orders         10  New customer  \n",
       "1  Average orders         10  New customer  \n",
       "2  Average orders         10  New customer  \n",
       "3  Average orders         10  New customer  \n",
       "4  Average orders         10  New customer  \n",
       "5  Average orders         10  New customer  \n",
       "6  Average orders         10  New customer  \n",
       "7  Average orders         10  New customer  \n",
       "8  Average orders         10  New customer  \n",
       "9  Average orders         10  New customer  "
      ]
     },
     "execution_count": 27,
     "metadata": {},
     "output_type": "execute_result"
    }
   ],
   "source": [
    "ords_prods_merge.head(10)"
   ]
  },
  {
   "cell_type": "markdown",
   "id": "40c13937",
   "metadata": {},
   "source": [
    "# 02. Mean order number"
   ]
  },
  {
   "cell_type": "markdown",
   "id": "d3149dd0",
   "metadata": {},
   "source": [
    "## 02.1 Mean order number in dataframe subset"
   ]
  },
  {
   "cell_type": "code",
   "execution_count": 15,
   "id": "03948a95",
   "metadata": {},
   "outputs": [],
   "source": [
    "# Creating subset with first million rows of main df\n",
    "df_subset = ords_prods_merge[:1000000]"
   ]
  },
  {
   "cell_type": "code",
   "execution_count": 18,
   "id": "e6ae7c04",
   "metadata": {},
   "outputs": [
    {
     "data": {
      "text/plain": [
       "department_id\n",
       "1.0     14.792915\n",
       "2.0     17.091743\n",
       "3.0     17.919589\n",
       "4.0     17.891973\n",
       "5.0     15.214270\n",
       "6.0     15.382228\n",
       "7.0     17.699986\n",
       "8.0     16.485269\n",
       "9.0     15.965921\n",
       "10.0    20.091818\n",
       "11.0    16.485395\n",
       "12.0    15.615845\n",
       "13.0    16.485052\n",
       "14.0    17.523474\n",
       "15.0    15.690354\n",
       "16.0    18.014342\n",
       "17.0    16.155822\n",
       "18.0    19.606536\n",
       "19.0    17.630236\n",
       "20.0    17.138204\n",
       "21.0    21.996844\n",
       "Name: order_number, dtype: float64"
      ]
     },
     "execution_count": 18,
     "metadata": {},
     "output_type": "execute_result"
    }
   ],
   "source": [
    "# Finding mean of order number grouped by department ID\n",
    "df_subset.groupby('department_id')['order_number'].mean()"
   ]
  },
  {
   "cell_type": "markdown",
   "id": "878f60f5",
   "metadata": {},
   "source": [
    "## 02.2 Mean order number in full dataframe"
   ]
  },
  {
   "cell_type": "code",
   "execution_count": 19,
   "id": "ee55f8a4",
   "metadata": {},
   "outputs": [
    {
     "data": {
      "text/plain": [
       "department_id\n",
       "1.0     15.457838\n",
       "2.0     17.277920\n",
       "3.0     17.170395\n",
       "4.0     17.811403\n",
       "5.0     15.215751\n",
       "6.0     16.439806\n",
       "7.0     17.225802\n",
       "8.0     15.340650\n",
       "9.0     15.895474\n",
       "10.0    20.197148\n",
       "11.0    16.170638\n",
       "12.0    15.887671\n",
       "13.0    16.583536\n",
       "14.0    16.773669\n",
       "15.0    16.165037\n",
       "16.0    17.665606\n",
       "17.0    15.694469\n",
       "18.0    19.310397\n",
       "19.0    17.177343\n",
       "20.0    16.473447\n",
       "21.0    22.902379\n",
       "Name: order_number, dtype: float64"
      ]
     },
     "execution_count": 19,
     "metadata": {},
     "output_type": "execute_result"
    }
   ],
   "source": [
    "ords_prods_merge.groupby('department_id')['order_number'].mean()"
   ]
  },
  {
   "cell_type": "markdown",
   "id": "675a3067",
   "metadata": {},
   "source": [
    "For the full and subset data, the department showing the highest average orders and the department showing the lowest average orders are the same. The subset is good for a general picture, but if you want the accurate rankings, you'd need the full dataset. Because of the variations in the data, the rankings are different in the subset."
   ]
  },
  {
   "cell_type": "markdown",
   "id": "6d4928fd",
   "metadata": {},
   "source": [
    "# 03. Loyalty Flag"
   ]
  },
  {
   "cell_type": "code",
   "execution_count": 20,
   "id": "54a15143",
   "metadata": {},
   "outputs": [],
   "source": [
    "# Creating new column 'max_order' with max number of orders grouped by user_id\n",
    "ords_prods_merge['max_order'] = ords_prods_merge.groupby(['user_id'])['order_number'].transform(np.max)"
   ]
  },
  {
   "cell_type": "code",
   "execution_count": 24,
   "id": "ec554e17",
   "metadata": {},
   "outputs": [
    {
     "data": {
      "text/plain": [
       "(32435059,)"
      ]
     },
     "execution_count": 24,
     "metadata": {},
     "output_type": "execute_result"
    }
   ],
   "source": [
    "#Checking 'max_order' values\n",
    "ords_prods_merge['max_order'].shape"
   ]
  },
  {
   "cell_type": "code",
   "execution_count": 23,
   "id": "17307d4a",
   "metadata": {},
   "outputs": [
    {
     "data": {
      "text/plain": [
       "99    1172313\n",
       "8      812631\n",
       "6      812072\n",
       "9      810842\n",
       "7      804745\n",
       "       ...   \n",
       "93      50440\n",
       "90      48399\n",
       "97      44969\n",
       "98      44604\n",
       "96      40469\n",
       "Name: max_order, Length: 97, dtype: int64"
      ]
     },
     "execution_count": 23,
     "metadata": {},
     "output_type": "execute_result"
    }
   ],
   "source": [
    "ords_prods_merge['max_order'].value_counts(dropna=False)"
   ]
  },
  {
   "cell_type": "code",
   "execution_count": 14,
   "id": "159ac444",
   "metadata": {},
   "outputs": [],
   "source": [
    "# Create column 'loyalty_flag' based on max_order values\n",
    "ords_prods_merge.loc[ords_prods_merge['max_order'] > 40, 'loyalty_flag'] = 'Loyal customer'\n",
    "ords_prods_merge.loc[(ords_prods_merge['max_order'] <= 40) & (ords_prods_merge['max_order'] > 10), 'loyalty_flag'] = 'Regular customer'\n",
    "ords_prods_merge.loc[ords_prods_merge['max_order'] <= 10, 'loyalty_flag'] = 'New customer'"
   ]
  },
  {
   "cell_type": "code",
   "execution_count": 25,
   "id": "d4bb8cb1",
   "metadata": {},
   "outputs": [
    {
     "data": {
      "text/plain": [
       "(32435059,)"
      ]
     },
     "execution_count": 25,
     "metadata": {},
     "output_type": "execute_result"
    }
   ],
   "source": [
    "# Checking 'loyalty_flag' values\n",
    "ords_prods_merge['loyalty_flag'].shape"
   ]
  },
  {
   "cell_type": "code",
   "execution_count": 26,
   "id": "4270b10a",
   "metadata": {
    "scrolled": true
   },
   "outputs": [
    {
     "data": {
      "text/plain": [
       "Regular customer    15891507\n",
       "Loyal customer      10294027\n",
       "New customer         6249525\n",
       "Name: loyalty_flag, dtype: int64"
      ]
     },
     "execution_count": 26,
     "metadata": {},
     "output_type": "execute_result"
    }
   ],
   "source": [
    "ords_prods_merge['loyalty_flag'].value_counts(dropna=False)"
   ]
  },
  {
   "cell_type": "markdown",
   "id": "1337d9c4",
   "metadata": {},
   "source": [
    "## 03.1 Customer loyalty analysis"
   ]
  },
  {
   "cell_type": "code",
   "execution_count": 31,
   "id": "f9fc4a7f",
   "metadata": {},
   "outputs": [
    {
     "data": {
      "text/plain": [
       "loyalty_flag\n",
       "Loyal customer      7.773575\n",
       "New customer        7.801206\n",
       "Regular customer    7.798262\n",
       "Name: prices, dtype: float64"
      ]
     },
     "execution_count": 31,
     "metadata": {},
     "output_type": "execute_result"
    }
   ],
   "source": [
    "# Checking average price of each item ordered grouped by customer loyalty\n",
    "ords_prods_merge.groupby('loyalty_flag')['prices'].mean()"
   ]
  },
  {
   "cell_type": "markdown",
   "id": "a922e2b7",
   "metadata": {},
   "source": [
    "There appears to be no significant relationship between customer loyalty (number of orders) and the average price of each item they ordered. However, more loyal customers may make orders with more items and spend more overall."
   ]
  },
  {
   "cell_type": "markdown",
   "id": "e250e979",
   "metadata": {},
   "source": [
    "# 04. Spending Flag"
   ]
  },
  {
   "cell_type": "code",
   "execution_count": 32,
   "id": "131fcbb9",
   "metadata": {},
   "outputs": [],
   "source": [
    "# Creating new column 'average_price' with average price of each item ordered grouped by user_id\n",
    "ords_prods_merge['average_price'] = ords_prods_merge.groupby(['user_id'])['prices'].transform(np.mean)"
   ]
  },
  {
   "cell_type": "code",
   "execution_count": 39,
   "id": "ddace797",
   "metadata": {},
   "outputs": [
    {
     "data": {
      "text/plain": [
       "(32435059,)"
      ]
     },
     "execution_count": 39,
     "metadata": {},
     "output_type": "execute_result"
    }
   ],
   "source": [
    "# Checking 'average_price' values\n",
    "ords_prods_merge['average_price'].shape"
   ]
  },
  {
   "cell_type": "code",
   "execution_count": 40,
   "id": "4b6475e6",
   "metadata": {},
   "outputs": [
    {
     "data": {
      "text/plain": [
       "8.000000     10512\n",
       "7.500000      9121\n",
       "8.100000      7687\n",
       "7.750000      7435\n",
       "7.400000      7039\n",
       "             ...  \n",
       "6.400000         3\n",
       "11.300000        3\n",
       "4.066667         3\n",
       "12.133333        3\n",
       "10.266667        3\n",
       "Name: average_price, Length: 128082, dtype: int64"
      ]
     },
     "execution_count": 40,
     "metadata": {},
     "output_type": "execute_result"
    }
   ],
   "source": [
    "ords_prods_merge['average_price'].value_counts(dropna=False)"
   ]
  },
  {
   "cell_type": "code",
   "execution_count": 41,
   "id": "01da3908",
   "metadata": {},
   "outputs": [],
   "source": [
    "# Create column 'spending_flag' based on average_price values\n",
    "ords_prods_merge.loc[ords_prods_merge['average_price'] >= 10, 'spending_flag'] = 'High spender'\n",
    "ords_prods_merge.loc[ords_prods_merge['average_price'] < 10, 'spending_flag'] = 'Low spender'"
   ]
  },
  {
   "cell_type": "code",
   "execution_count": 42,
   "id": "c3b33556",
   "metadata": {},
   "outputs": [
    {
     "data": {
      "text/plain": [
       "(32435059,)"
      ]
     },
     "execution_count": 42,
     "metadata": {},
     "output_type": "execute_result"
    }
   ],
   "source": [
    "# Checking 'spending_flag' values\n",
    "ords_prods_merge['spending_flag'].shape"
   ]
  },
  {
   "cell_type": "code",
   "execution_count": 43,
   "id": "55274b71",
   "metadata": {},
   "outputs": [
    {
     "data": {
      "text/plain": [
       "Low spender     32315179\n",
       "High spender      119880\n",
       "Name: spending_flag, dtype: int64"
      ]
     },
     "execution_count": 43,
     "metadata": {},
     "output_type": "execute_result"
    }
   ],
   "source": [
    "ords_prods_merge['spending_flag'].value_counts(dropna=False)"
   ]
  },
  {
   "cell_type": "markdown",
   "id": "97745681",
   "metadata": {},
   "source": [
    "# 05. Order Frequency flag"
   ]
  },
  {
   "cell_type": "code",
   "execution_count": 44,
   "id": "da700e0c",
   "metadata": {},
   "outputs": [],
   "source": [
    "# Creating new column 'median_days_since_last_order' with median of days_since_prior_order grouped by user_id\n",
    "ords_prods_merge['median_days_since_last_order'] = ords_prods_merge.groupby(['user_id'])['days_since_prior_order'].transform(np.median)"
   ]
  },
  {
   "cell_type": "code",
   "execution_count": 45,
   "id": "a984992e",
   "metadata": {},
   "outputs": [
    {
     "data": {
      "text/plain": [
       "(32435059,)"
      ]
     },
     "execution_count": 45,
     "metadata": {},
     "output_type": "execute_result"
    }
   ],
   "source": [
    "# Checking 'median_days_since_last_order' values\n",
    "ords_prods_merge['median_days_since_last_order'].shape"
   ]
  },
  {
   "cell_type": "code",
   "execution_count": 46,
   "id": "a5668e20",
   "metadata": {},
   "outputs": [
    {
     "data": {
      "text/plain": [
       "7.0     5688634\n",
       "6.0     2986650\n",
       "8.0     2714958\n",
       "5.0     2491691\n",
       "4.0     2315491\n",
       "         ...   \n",
       "27.5       5710\n",
       "26.5       5481\n",
       "29.5       5017\n",
       "1.5        1058\n",
       "0.5         259\n",
       "Name: median_days_since_last_order, Length: 61, dtype: int64"
      ]
     },
     "execution_count": 46,
     "metadata": {},
     "output_type": "execute_result"
    }
   ],
   "source": [
    "ords_prods_merge['median_days_since_last_order'].value_counts(dropna=False)"
   ]
  },
  {
   "cell_type": "code",
   "execution_count": 47,
   "id": "97b39569",
   "metadata": {},
   "outputs": [],
   "source": [
    "# Create column 'order_frequency_flag' based on median_days_since_last_order values\n",
    "ords_prods_merge.loc[ords_prods_merge['median_days_since_last_order'] > 20, 'order_frequency_flag'] = 'Frequent customer'\n",
    "ords_prods_merge.loc[(ords_prods_merge['median_days_since_last_order'] <= 20) & (ords_prods_merge['median_days_since_last_order'] > 10), 'order_frequency_flag'] = 'Regular customer'\n",
    "ords_prods_merge.loc[ords_prods_merge['median_days_since_last_order'] <= 10, 'order_frequency_flag'] = 'Infrequent customer'"
   ]
  },
  {
   "cell_type": "code",
   "execution_count": 48,
   "id": "d1c8b790",
   "metadata": {},
   "outputs": [
    {
     "data": {
      "text/plain": [
       "(32435059,)"
      ]
     },
     "execution_count": 48,
     "metadata": {},
     "output_type": "execute_result"
    }
   ],
   "source": [
    "# Checking 'order_frequency_flag' values\n",
    "ords_prods_merge['order_frequency_flag'].shape"
   ]
  },
  {
   "cell_type": "code",
   "execution_count": 50,
   "id": "45d16483",
   "metadata": {},
   "outputs": [
    {
     "data": {
      "text/plain": [
       "Infrequent customer    21578273\n",
       "Regular customer        7217066\n",
       "Frequent customer       3639720\n",
       "Name: order_frequency_flag, dtype: int64"
      ]
     },
     "execution_count": 50,
     "metadata": {},
     "output_type": "execute_result"
    }
   ],
   "source": [
    "ords_prods_merge['order_frequency_flag'].value_counts(dropna=False)"
   ]
  },
  {
   "cell_type": "markdown",
   "id": "ad662693",
   "metadata": {},
   "source": [
    "# 06. Export"
   ]
  },
  {
   "cell_type": "code",
   "execution_count": 51,
   "id": "a6799407",
   "metadata": {},
   "outputs": [],
   "source": [
    "# Exporting new df as pickle\n",
    "ords_prods_merge.to_pickle(os.path.join(path, '02 Data','Prepared Data', 'orders_products_master_4.8.pkl'))"
   ]
  }
 ],
 "metadata": {
  "kernelspec": {
   "display_name": "Python 3 (ipykernel)",
   "language": "python",
   "name": "python3"
  },
  "language_info": {
   "codemirror_mode": {
    "name": "ipython",
    "version": 3
   },
   "file_extension": ".py",
   "mimetype": "text/x-python",
   "name": "python",
   "nbconvert_exporter": "python",
   "pygments_lexer": "ipython3",
   "version": "3.9.12"
  }
 },
 "nbformat": 4,
 "nbformat_minor": 5
}
