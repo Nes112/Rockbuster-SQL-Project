{
 "cells": [
  {
   "cell_type": "markdown",
   "id": "a8e06a47",
   "metadata": {},
   "source": [
    "**Contents**\n",
    "\n",
    "01 Importing Libraries and Datasets\n",
    "\n",
    "02 Products data\n",
    "\n",
    "02.1 Data profile\n",
    "\n",
    "02.2 Removing Typo Values\n",
    "\n",
    "03 Orders Data\n",
    "\n",
    "03.1 Data profile\n",
    "\n",
    "03.2 Data consistency check\n",
    "\n",
    "04 Data export"
   ]
  },
  {
   "cell_type": "markdown",
   "id": "4fccc4ac",
   "metadata": {},
   "source": [
    "# 01. Importing Libraries and Datasets"
   ]
  },
  {
   "cell_type": "code",
   "execution_count": 1,
   "id": "8e3675d7",
   "metadata": {},
   "outputs": [],
   "source": [
    "# Import libraries\n",
    "import pandas as pd\n",
    "import numpy as np\n",
    "import os"
   ]
  },
  {
   "cell_type": "code",
   "execution_count": 2,
   "id": "0d7a6e8c",
   "metadata": {},
   "outputs": [],
   "source": [
    "# Set Path\n",
    "path = r'C:\\Users\\Forrest\\Desktop\\Work\\CareerFoundry\\Python\\2022-10 Instacart Basket Analysis'"
   ]
  },
  {
   "cell_type": "code",
   "execution_count": 3,
   "id": "abe27841",
   "metadata": {},
   "outputs": [],
   "source": [
    "# Import cleaned products df\n",
    "df_prods = pd.read_csv(os.path.join(path, '02 Data', 'Prepared Data', 'products_cleaned.csv'), index_col = 0)"
   ]
  },
  {
   "cell_type": "code",
   "execution_count": 7,
   "id": "91cac597",
   "metadata": {},
   "outputs": [],
   "source": [
    "# Import cleaned orders df\n",
    "df_ords = pd.read_csv(os.path.join(path, '02 Data', 'Prepared Data', 'orders_wrangled.csv'), index_col = 0)"
   ]
  },
  {
   "cell_type": "markdown",
   "id": "71fee073",
   "metadata": {},
   "source": [
    "# 02. Products data"
   ]
  },
  {
   "cell_type": "markdown",
   "id": "90b21f20",
   "metadata": {},
   "source": [
    "## 02.1 Data profile"
   ]
  },
  {
   "cell_type": "code",
   "execution_count": 27,
   "id": "07419989",
   "metadata": {},
   "outputs": [
    {
     "data": {
      "text/plain": [
       "(49672, 4)"
      ]
     },
     "execution_count": 27,
     "metadata": {},
     "output_type": "execute_result"
    }
   ],
   "source": [
    "df_prods.shape"
   ]
  },
  {
   "cell_type": "code",
   "execution_count": 6,
   "id": "9a65305b",
   "metadata": {},
   "outputs": [
    {
     "data": {
      "text/html": [
       "<div>\n",
       "<style scoped>\n",
       "    .dataframe tbody tr th:only-of-type {\n",
       "        vertical-align: middle;\n",
       "    }\n",
       "\n",
       "    .dataframe tbody tr th {\n",
       "        vertical-align: top;\n",
       "    }\n",
       "\n",
       "    .dataframe thead th {\n",
       "        text-align: right;\n",
       "    }\n",
       "</style>\n",
       "<table border=\"1\" class=\"dataframe\">\n",
       "  <thead>\n",
       "    <tr style=\"text-align: right;\">\n",
       "      <th></th>\n",
       "      <th>product_name</th>\n",
       "      <th>aisle_id</th>\n",
       "      <th>department_id</th>\n",
       "      <th>prices</th>\n",
       "    </tr>\n",
       "    <tr>\n",
       "      <th>product_id</th>\n",
       "      <th></th>\n",
       "      <th></th>\n",
       "      <th></th>\n",
       "      <th></th>\n",
       "    </tr>\n",
       "  </thead>\n",
       "  <tbody>\n",
       "    <tr>\n",
       "      <th>1</th>\n",
       "      <td>Chocolate Sandwich Cookies</td>\n",
       "      <td>61</td>\n",
       "      <td>19</td>\n",
       "      <td>5.8</td>\n",
       "    </tr>\n",
       "    <tr>\n",
       "      <th>2</th>\n",
       "      <td>All-Seasons Salt</td>\n",
       "      <td>104</td>\n",
       "      <td>13</td>\n",
       "      <td>9.3</td>\n",
       "    </tr>\n",
       "    <tr>\n",
       "      <th>3</th>\n",
       "      <td>Robust Golden Unsweetened Oolong Tea</td>\n",
       "      <td>94</td>\n",
       "      <td>7</td>\n",
       "      <td>4.5</td>\n",
       "    </tr>\n",
       "    <tr>\n",
       "      <th>4</th>\n",
       "      <td>Smart Ones Classic Favorites Mini Rigatoni Wit...</td>\n",
       "      <td>38</td>\n",
       "      <td>1</td>\n",
       "      <td>10.5</td>\n",
       "    </tr>\n",
       "    <tr>\n",
       "      <th>5</th>\n",
       "      <td>Green Chile Anytime Sauce</td>\n",
       "      <td>5</td>\n",
       "      <td>13</td>\n",
       "      <td>4.3</td>\n",
       "    </tr>\n",
       "    <tr>\n",
       "      <th>6</th>\n",
       "      <td>Dry Nose Oil</td>\n",
       "      <td>11</td>\n",
       "      <td>11</td>\n",
       "      <td>2.6</td>\n",
       "    </tr>\n",
       "    <tr>\n",
       "      <th>7</th>\n",
       "      <td>Pure Coconut Water With Orange</td>\n",
       "      <td>98</td>\n",
       "      <td>7</td>\n",
       "      <td>4.4</td>\n",
       "    </tr>\n",
       "    <tr>\n",
       "      <th>8</th>\n",
       "      <td>Cut Russet Potatoes Steam N' Mash</td>\n",
       "      <td>116</td>\n",
       "      <td>1</td>\n",
       "      <td>1.1</td>\n",
       "    </tr>\n",
       "    <tr>\n",
       "      <th>9</th>\n",
       "      <td>Light Strawberry Blueberry Yogurt</td>\n",
       "      <td>120</td>\n",
       "      <td>16</td>\n",
       "      <td>7.0</td>\n",
       "    </tr>\n",
       "    <tr>\n",
       "      <th>10</th>\n",
       "      <td>Sparkling Orange Juice &amp; Prickly Pear Beverage</td>\n",
       "      <td>115</td>\n",
       "      <td>7</td>\n",
       "      <td>8.4</td>\n",
       "    </tr>\n",
       "  </tbody>\n",
       "</table>\n",
       "</div>"
      ],
      "text/plain": [
       "                                                 product_name  aisle_id  \\\n",
       "product_id                                                                \n",
       "1                                  Chocolate Sandwich Cookies        61   \n",
       "2                                            All-Seasons Salt       104   \n",
       "3                        Robust Golden Unsweetened Oolong Tea        94   \n",
       "4           Smart Ones Classic Favorites Mini Rigatoni Wit...        38   \n",
       "5                                   Green Chile Anytime Sauce         5   \n",
       "6                                                Dry Nose Oil        11   \n",
       "7                              Pure Coconut Water With Orange        98   \n",
       "8                           Cut Russet Potatoes Steam N' Mash       116   \n",
       "9                           Light Strawberry Blueberry Yogurt       120   \n",
       "10             Sparkling Orange Juice & Prickly Pear Beverage       115   \n",
       "\n",
       "            department_id  prices  \n",
       "product_id                         \n",
       "1                      19     5.8  \n",
       "2                      13     9.3  \n",
       "3                       7     4.5  \n",
       "4                       1    10.5  \n",
       "5                      13     4.3  \n",
       "6                      11     2.6  \n",
       "7                       7     4.4  \n",
       "8                       1     1.1  \n",
       "9                      16     7.0  \n",
       "10                      7     8.4  "
      ]
     },
     "execution_count": 6,
     "metadata": {},
     "output_type": "execute_result"
    }
   ],
   "source": [
    "df_prods.head(10)"
   ]
  },
  {
   "cell_type": "code",
   "execution_count": 5,
   "id": "9cd4390a",
   "metadata": {},
   "outputs": [
    {
     "data": {
      "text/html": [
       "<div>\n",
       "<style scoped>\n",
       "    .dataframe tbody tr th:only-of-type {\n",
       "        vertical-align: middle;\n",
       "    }\n",
       "\n",
       "    .dataframe tbody tr th {\n",
       "        vertical-align: top;\n",
       "    }\n",
       "\n",
       "    .dataframe thead th {\n",
       "        text-align: right;\n",
       "    }\n",
       "</style>\n",
       "<table border=\"1\" class=\"dataframe\">\n",
       "  <thead>\n",
       "    <tr style=\"text-align: right;\">\n",
       "      <th></th>\n",
       "      <th>aisle_id</th>\n",
       "      <th>department_id</th>\n",
       "      <th>prices</th>\n",
       "    </tr>\n",
       "  </thead>\n",
       "  <tbody>\n",
       "    <tr>\n",
       "      <th>count</th>\n",
       "      <td>49672.000000</td>\n",
       "      <td>49672.000000</td>\n",
       "      <td>49672.000000</td>\n",
       "    </tr>\n",
       "    <tr>\n",
       "      <th>mean</th>\n",
       "      <td>67.762442</td>\n",
       "      <td>11.728942</td>\n",
       "      <td>9.993282</td>\n",
       "    </tr>\n",
       "    <tr>\n",
       "      <th>std</th>\n",
       "      <td>38.315784</td>\n",
       "      <td>5.850779</td>\n",
       "      <td>453.615536</td>\n",
       "    </tr>\n",
       "    <tr>\n",
       "      <th>min</th>\n",
       "      <td>1.000000</td>\n",
       "      <td>1.000000</td>\n",
       "      <td>1.000000</td>\n",
       "    </tr>\n",
       "    <tr>\n",
       "      <th>25%</th>\n",
       "      <td>35.000000</td>\n",
       "      <td>7.000000</td>\n",
       "      <td>4.100000</td>\n",
       "    </tr>\n",
       "    <tr>\n",
       "      <th>50%</th>\n",
       "      <td>69.000000</td>\n",
       "      <td>13.000000</td>\n",
       "      <td>7.100000</td>\n",
       "    </tr>\n",
       "    <tr>\n",
       "      <th>75%</th>\n",
       "      <td>100.000000</td>\n",
       "      <td>17.000000</td>\n",
       "      <td>11.100000</td>\n",
       "    </tr>\n",
       "    <tr>\n",
       "      <th>max</th>\n",
       "      <td>134.000000</td>\n",
       "      <td>21.000000</td>\n",
       "      <td>99999.000000</td>\n",
       "    </tr>\n",
       "  </tbody>\n",
       "</table>\n",
       "</div>"
      ],
      "text/plain": [
       "           aisle_id  department_id        prices\n",
       "count  49672.000000   49672.000000  49672.000000\n",
       "mean      67.762442      11.728942      9.993282\n",
       "std       38.315784       5.850779    453.615536\n",
       "min        1.000000       1.000000      1.000000\n",
       "25%       35.000000       7.000000      4.100000\n",
       "50%       69.000000      13.000000      7.100000\n",
       "75%      100.000000      17.000000     11.100000\n",
       "max      134.000000      21.000000  99999.000000"
      ]
     },
     "execution_count": 5,
     "metadata": {},
     "output_type": "execute_result"
    }
   ],
   "source": [
    "df_prods.describe()"
   ]
  },
  {
   "cell_type": "markdown",
   "id": "af8d0db2",
   "metadata": {},
   "source": [
    "Based on the max price, at least one item is $99,999. This is likely a typo or missing data.\n"
   ]
  },
  {
   "cell_type": "markdown",
   "id": "37f86507",
   "metadata": {},
   "source": [
    "## 02.2 Removing typo values"
   ]
  },
  {
   "cell_type": "code",
   "execution_count": 36,
   "id": "0034a10b",
   "metadata": {
    "scrolled": true
   },
   "outputs": [
    {
     "data": {
      "text/html": [
       "<div>\n",
       "<style scoped>\n",
       "    .dataframe tbody tr th:only-of-type {\n",
       "        vertical-align: middle;\n",
       "    }\n",
       "\n",
       "    .dataframe tbody tr th {\n",
       "        vertical-align: top;\n",
       "    }\n",
       "\n",
       "    .dataframe thead th {\n",
       "        text-align: right;\n",
       "    }\n",
       "</style>\n",
       "<table border=\"1\" class=\"dataframe\">\n",
       "  <thead>\n",
       "    <tr style=\"text-align: right;\">\n",
       "      <th></th>\n",
       "      <th>product_name</th>\n",
       "      <th>aisle_id</th>\n",
       "      <th>department_id</th>\n",
       "      <th>prices</th>\n",
       "    </tr>\n",
       "    <tr>\n",
       "      <th>product_id</th>\n",
       "      <th></th>\n",
       "      <th></th>\n",
       "      <th></th>\n",
       "      <th></th>\n",
       "    </tr>\n",
       "  </thead>\n",
       "  <tbody>\n",
       "    <tr>\n",
       "      <th>21553</th>\n",
       "      <td>Lowfat 2% Milkfat Cottage Cheese</td>\n",
       "      <td>108</td>\n",
       "      <td>16</td>\n",
       "      <td>14900.0</td>\n",
       "    </tr>\n",
       "    <tr>\n",
       "      <th>33664</th>\n",
       "      <td>2 % Reduced Fat  Milk</td>\n",
       "      <td>84</td>\n",
       "      <td>16</td>\n",
       "      <td>99999.0</td>\n",
       "    </tr>\n",
       "  </tbody>\n",
       "</table>\n",
       "</div>"
      ],
      "text/plain": [
       "                                product_name  aisle_id  department_id   prices\n",
       "product_id                                                                    \n",
       "21553       Lowfat 2% Milkfat Cottage Cheese       108             16  14900.0\n",
       "33664                  2 % Reduced Fat  Milk        84             16  99999.0"
      ]
     },
     "execution_count": 36,
     "metadata": {},
     "output_type": "execute_result"
    }
   ],
   "source": [
    "# Identifying extreme outliers in price\n",
    "\n",
    "df_prods[df_prods['prices'] > 25]"
   ]
  },
  {
   "cell_type": "code",
   "execution_count": 64,
   "id": "22af4c3f",
   "metadata": {
    "scrolled": true
   },
   "outputs": [],
   "source": [
    "# Setting typo values to null\n",
    "\n",
    "df_prods.at[21553, 'prices'] = None\n",
    "df_prods.at[33664, 'prices'] = None"
   ]
  },
  {
   "cell_type": "code",
   "execution_count": 70,
   "id": "ce5356e2",
   "metadata": {},
   "outputs": [
    {
     "data": {
      "text/plain": [
       "product_name     0\n",
       "aisle_id         0\n",
       "department_id    0\n",
       "prices           2\n",
       "dtype: int64"
      ]
     },
     "execution_count": 70,
     "metadata": {},
     "output_type": "execute_result"
    }
   ],
   "source": [
    "# Checking that values have changed to null\n",
    "\n",
    "df_prods.isnull().sum()"
   ]
  },
  {
   "cell_type": "markdown",
   "id": "3d7eddaa",
   "metadata": {},
   "source": [
    "# 03. Orders data"
   ]
  },
  {
   "cell_type": "markdown",
   "id": "a9a7f302",
   "metadata": {},
   "source": [
    "## 03.1 Data profile"
   ]
  },
  {
   "cell_type": "code",
   "execution_count": 26,
   "id": "0f6b93bb",
   "metadata": {},
   "outputs": [
    {
     "data": {
      "text/plain": [
       "(3421083, 6)"
      ]
     },
     "execution_count": 26,
     "metadata": {},
     "output_type": "execute_result"
    }
   ],
   "source": [
    "df_ords.shape"
   ]
  },
  {
   "cell_type": "code",
   "execution_count": 8,
   "id": "dfa80e10",
   "metadata": {
    "scrolled": false
   },
   "outputs": [
    {
     "data": {
      "text/html": [
       "<div>\n",
       "<style scoped>\n",
       "    .dataframe tbody tr th:only-of-type {\n",
       "        vertical-align: middle;\n",
       "    }\n",
       "\n",
       "    .dataframe tbody tr th {\n",
       "        vertical-align: top;\n",
       "    }\n",
       "\n",
       "    .dataframe thead th {\n",
       "        text-align: right;\n",
       "    }\n",
       "</style>\n",
       "<table border=\"1\" class=\"dataframe\">\n",
       "  <thead>\n",
       "    <tr style=\"text-align: right;\">\n",
       "      <th></th>\n",
       "      <th>order_id</th>\n",
       "      <th>user_id</th>\n",
       "      <th>order_number</th>\n",
       "      <th>orders_day_of_week</th>\n",
       "      <th>order_hour_of_day</th>\n",
       "      <th>days_since_prior_order</th>\n",
       "    </tr>\n",
       "  </thead>\n",
       "  <tbody>\n",
       "    <tr>\n",
       "      <th>0</th>\n",
       "      <td>2539329</td>\n",
       "      <td>1</td>\n",
       "      <td>1</td>\n",
       "      <td>2</td>\n",
       "      <td>8</td>\n",
       "      <td>NaN</td>\n",
       "    </tr>\n",
       "    <tr>\n",
       "      <th>1</th>\n",
       "      <td>2398795</td>\n",
       "      <td>1</td>\n",
       "      <td>2</td>\n",
       "      <td>3</td>\n",
       "      <td>7</td>\n",
       "      <td>15.0</td>\n",
       "    </tr>\n",
       "    <tr>\n",
       "      <th>2</th>\n",
       "      <td>473747</td>\n",
       "      <td>1</td>\n",
       "      <td>3</td>\n",
       "      <td>3</td>\n",
       "      <td>12</td>\n",
       "      <td>21.0</td>\n",
       "    </tr>\n",
       "    <tr>\n",
       "      <th>3</th>\n",
       "      <td>2254736</td>\n",
       "      <td>1</td>\n",
       "      <td>4</td>\n",
       "      <td>4</td>\n",
       "      <td>7</td>\n",
       "      <td>29.0</td>\n",
       "    </tr>\n",
       "    <tr>\n",
       "      <th>4</th>\n",
       "      <td>431534</td>\n",
       "      <td>1</td>\n",
       "      <td>5</td>\n",
       "      <td>4</td>\n",
       "      <td>15</td>\n",
       "      <td>28.0</td>\n",
       "    </tr>\n",
       "    <tr>\n",
       "      <th>5</th>\n",
       "      <td>3367565</td>\n",
       "      <td>1</td>\n",
       "      <td>6</td>\n",
       "      <td>2</td>\n",
       "      <td>7</td>\n",
       "      <td>19.0</td>\n",
       "    </tr>\n",
       "    <tr>\n",
       "      <th>6</th>\n",
       "      <td>550135</td>\n",
       "      <td>1</td>\n",
       "      <td>7</td>\n",
       "      <td>1</td>\n",
       "      <td>9</td>\n",
       "      <td>20.0</td>\n",
       "    </tr>\n",
       "    <tr>\n",
       "      <th>7</th>\n",
       "      <td>3108588</td>\n",
       "      <td>1</td>\n",
       "      <td>8</td>\n",
       "      <td>1</td>\n",
       "      <td>14</td>\n",
       "      <td>14.0</td>\n",
       "    </tr>\n",
       "    <tr>\n",
       "      <th>8</th>\n",
       "      <td>2295261</td>\n",
       "      <td>1</td>\n",
       "      <td>9</td>\n",
       "      <td>1</td>\n",
       "      <td>16</td>\n",
       "      <td>0.0</td>\n",
       "    </tr>\n",
       "    <tr>\n",
       "      <th>9</th>\n",
       "      <td>2550362</td>\n",
       "      <td>1</td>\n",
       "      <td>10</td>\n",
       "      <td>4</td>\n",
       "      <td>8</td>\n",
       "      <td>30.0</td>\n",
       "    </tr>\n",
       "  </tbody>\n",
       "</table>\n",
       "</div>"
      ],
      "text/plain": [
       "   order_id  user_id  order_number  orders_day_of_week  order_hour_of_day  \\\n",
       "0   2539329        1             1                   2                  8   \n",
       "1   2398795        1             2                   3                  7   \n",
       "2    473747        1             3                   3                 12   \n",
       "3   2254736        1             4                   4                  7   \n",
       "4    431534        1             5                   4                 15   \n",
       "5   3367565        1             6                   2                  7   \n",
       "6    550135        1             7                   1                  9   \n",
       "7   3108588        1             8                   1                 14   \n",
       "8   2295261        1             9                   1                 16   \n",
       "9   2550362        1            10                   4                  8   \n",
       "\n",
       "   days_since_prior_order  \n",
       "0                     NaN  \n",
       "1                    15.0  \n",
       "2                    21.0  \n",
       "3                    29.0  \n",
       "4                    28.0  \n",
       "5                    19.0  \n",
       "6                    20.0  \n",
       "7                    14.0  \n",
       "8                     0.0  \n",
       "9                    30.0  "
      ]
     },
     "execution_count": 8,
     "metadata": {},
     "output_type": "execute_result"
    }
   ],
   "source": [
    "df_ords.head(10)"
   ]
  },
  {
   "cell_type": "markdown",
   "id": "bb3ddf5e",
   "metadata": {},
   "source": [
    "## 03.2 Data consistency check"
   ]
  },
  {
   "cell_type": "code",
   "execution_count": 11,
   "id": "595806cd",
   "metadata": {},
   "outputs": [],
   "source": [
    "# Check for mixed data types\n",
    "# Output is list of columns with mixed data types\n",
    "\n",
    "for col in df_ords.columns.tolist():\n",
    "  weird = (df_ords[[col]].applymap(type) != df_ords[[col]].iloc[0].apply(type)).any(axis = 1)\n",
    "  if len (df_ords[weird]) > 0:\n",
    "    print (col)"
   ]
  },
  {
   "cell_type": "markdown",
   "id": "87f23146",
   "metadata": {},
   "source": [
    "No columns of mixed data type!"
   ]
  },
  {
   "cell_type": "code",
   "execution_count": 23,
   "id": "5ef81ce2",
   "metadata": {},
   "outputs": [
    {
     "data": {
      "text/plain": [
       "order_id                       0\n",
       "user_id                        0\n",
       "order_number                   0\n",
       "orders_day_of_week             0\n",
       "order_hour_of_day              0\n",
       "days_since_prior_order    206209\n",
       "dtype: int64"
      ]
     },
     "execution_count": 23,
     "metadata": {},
     "output_type": "execute_result"
    }
   ],
   "source": [
    "# Check for null (NaN) values\n",
    "# Output is number of null values per column\n",
    "\n",
    "df_ords.isnull().sum()"
   ]
  },
  {
   "cell_type": "markdown",
   "id": "31aa992a",
   "metadata": {},
   "source": [
    "206,209 values in \"days_since_prior_order\" are null (NaN). These values should represent first-time customers (who have no prior order to record). So, these null values are acceptable to remain in the dataset."
   ]
  },
  {
   "cell_type": "code",
   "execution_count": 24,
   "id": "6da8fb01",
   "metadata": {},
   "outputs": [
    {
     "data": {
      "text/plain": [
       "(0, 6)"
      ]
     },
     "execution_count": 24,
     "metadata": {},
     "output_type": "execute_result"
    }
   ],
   "source": [
    "# Checking for duplicate rows\n",
    "# Output is (rows, columns) of duplicates\n",
    "\n",
    "df_ords[df_ords.duplicated()].shape"
   ]
  },
  {
   "cell_type": "markdown",
   "id": "a46be047",
   "metadata": {},
   "source": [
    "No duplicate rows!"
   ]
  },
  {
   "cell_type": "markdown",
   "id": "6eebbe6f",
   "metadata": {},
   "source": [
    "# 04. Data export"
   ]
  },
  {
   "cell_type": "code",
   "execution_count": 72,
   "id": "6ab4b6ad",
   "metadata": {},
   "outputs": [],
   "source": [
    "# Export df_prods\n",
    "\n",
    "df_prods.to_csv(os.path.join(path, '02 Data','Prepared Data', 'products_cleaned.csv'))"
   ]
  },
  {
   "cell_type": "markdown",
   "id": "cda915c3",
   "metadata": {},
   "source": [
    "No data transformations were made for df_ords, so no export is needed."
   ]
  }
 ],
 "metadata": {
  "kernelspec": {
   "display_name": "Python 3 (ipykernel)",
   "language": "python",
   "name": "python3"
  },
  "language_info": {
   "codemirror_mode": {
    "name": "ipython",
    "version": 3
   },
   "file_extension": ".py",
   "mimetype": "text/x-python",
   "name": "python",
   "nbconvert_exporter": "python",
   "pygments_lexer": "ipython3",
   "version": "3.9.12"
  }
 },
 "nbformat": 4,
 "nbformat_minor": 5
}
