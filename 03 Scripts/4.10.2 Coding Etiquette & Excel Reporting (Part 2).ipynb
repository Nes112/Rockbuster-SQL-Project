{
 "cells": [
  {
   "cell_type": "markdown",
   "id": "57210c41",
   "metadata": {},
   "source": [
    "**Contents**\n",
    "\n",
    "01 Importing Libraries and Datasets\n",
    "\n",
    "02 Customer Profiles\n",
    "\n",
    "02.1 Family Category\n",
    "\n",
    "02.2 Age Category\n",
    "\n",
    "02.3 Income Category\n",
    "\n",
    "03 Aggregating usage and expenditure\n",
    "\n",
    "03.1 Usage\n",
    "\n",
    "03.2 Expenditure\n",
    "\n",
    "04 Crosstabs\n",
    "\n",
    "04.1 Region x Income category\n",
    "\n",
    "04.2 Region x Age category\n",
    "\n",
    "04.3 Region x Family category\n",
    "\n",
    "05 Export"
   ]
  },
  {
   "cell_type": "markdown",
   "id": "f22cdb4e",
   "metadata": {},
   "source": [
    "# 01. Importing Libraries and Datasets"
   ]
  },
  {
   "cell_type": "code",
   "execution_count": 2,
   "id": "a7d434db",
   "metadata": {},
   "outputs": [],
   "source": [
    "import pandas as pd\n",
    "import numpy as np\n",
    "import os\n",
    "import matplotlib.pyplot as plt\n",
    "import seaborn as sns\n",
    "import scipy"
   ]
  },
  {
   "cell_type": "code",
   "execution_count": 3,
   "id": "da420ad1",
   "metadata": {},
   "outputs": [],
   "source": [
    "# Set Path\n",
    "path = r'C:\\Users\\Forrest\\Desktop\\Work\\CareerFoundry\\Python\\2022-10 Instacart Basket Analysis'"
   ]
  },
  {
   "cell_type": "code",
   "execution_count": 4,
   "id": "0148b913",
   "metadata": {},
   "outputs": [],
   "source": [
    "# Import active_users\n",
    "df = pd.read_pickle(os.path.join(path, '02 Data', 'Prepared Data', 'active_users.pkl'))"
   ]
  },
  {
   "cell_type": "markdown",
   "id": "db7a2324",
   "metadata": {},
   "source": [
    "# 02. Customer profiles"
   ]
  },
  {
   "cell_type": "markdown",
   "id": "5079e74e",
   "metadata": {},
   "source": [
    "## 02.1 Family category"
   ]
  },
  {
   "cell_type": "code",
   "execution_count": 5,
   "id": "1eab38a7",
   "metadata": {
    "scrolled": true
   },
   "outputs": [],
   "source": [
    "# Creating three categories: \n",
    "# Users with more than 1 dependent and married = married with children\n",
    "# Users with more than 1 dependent and single, divorced/widowed, or living with parents or siblings = single with children\n",
    "# users with no dependents = no children\n",
    "\n",
    "df.loc[(df['dependents']>0)&(df['mar_status']=='married'),'family_category']='married with children'\n",
    "df.loc[(df['dependents']>0)&(df['mar_status']!='married'),'family_category']='single with children'\n",
    "df.loc[df['dependents']==0,'family_category']='no children'"
   ]
  },
  {
   "cell_type": "code",
   "execution_count": 6,
   "id": "1a4ed7ef",
   "metadata": {},
   "outputs": [
    {
     "data": {
      "text/plain": [
       "married with children    21763585\n",
       "no children               7747183\n",
       "single with children      1482721\n",
       "Name: family_category, dtype: int64"
      ]
     },
     "execution_count": 6,
     "metadata": {},
     "output_type": "execute_result"
    }
   ],
   "source": [
    "df['family_category'].value_counts()"
   ]
  },
  {
   "cell_type": "code",
   "execution_count": 10,
   "id": "c8a51541",
   "metadata": {},
   "outputs": [
    {
     "data": {
      "image/png": "[encoded data removed]",
      "text/plain": [
       "<Figure size 432x288 with 1 Axes>"
      ]
     },
     "metadata": {
      "needs_background": "light"
     },
     "output_type": "display_data"
    }
   ],
   "source": [
    "# Creating visualization of family_category column\n",
    "\n",
    "family_bar=df['family_category'].value_counts().plot.bar(color=['red','blue','green'])"
   ]
  },
  {
   "cell_type": "code",
   "execution_count": 11,
   "id": "f9855731",
   "metadata": {},
   "outputs": [],
   "source": [
    "# Saving family visualization\n",
    "\n",
    "family_bar.figure.savefig(os.path.join(path,'04 Analysis','Visualizations','family_bar.png'))"
   ]
  },
  {
   "cell_type": "markdown",
   "id": "50657ff1",
   "metadata": {},
   "source": [
    "## 02.2 Age category"
   ]
  },
  {
   "cell_type": "code",
   "execution_count": 7,
   "id": "8bde9bc0",
   "metadata": {},
   "outputs": [],
   "source": [
    "# Creating age categories\n",
    "\n",
    "df.loc[(df['age']>=18)&(df['age']<=29),'age_category']='18-29'\n",
    "df.loc[(df['age']>=30)&(df['age']<=39),'age_category']='30-39'\n",
    "df.loc[(df['age']>=40)&(df['age']<=49),'age_category']='40-49'\n",
    "df.loc[(df['age']>=50)&(df['age']<=59),'age_category']='50-59'\n",
    "df.loc[df['age']>60,'age_category']='60+'"
   ]
  },
  {
   "cell_type": "code",
   "execution_count": 8,
   "id": "285e45a8",
   "metadata": {},
   "outputs": [
    {
     "data": {
      "text/plain": [
       "60+      10121834\n",
       "18-29     5823190\n",
       "40-49     4887799\n",
       "30-39     4851781\n",
       "50-59     4846544\n",
       "Name: age_category, dtype: int64"
      ]
     },
     "execution_count": 8,
     "metadata": {},
     "output_type": "execute_result"
    }
   ],
   "source": [
    "df['age_category'].value_counts()"
   ]
  },
  {
   "cell_type": "code",
   "execution_count": 13,
   "id": "79d1cee3",
   "metadata": {},
   "outputs": [
    {
     "data": {
      "image/png": "[encoded data removed]",
      "text/plain": [
       "<Figure size 432x288 with 1 Axes>"
      ]
     },
     "metadata": {
      "needs_background": "light"
     },
     "output_type": "display_data"
    }
   ],
   "source": [
    "# Creating visualization of age column\n",
    "\n",
    "age_bar=df['age_category'].value_counts().plot.bar()"
   ]
  },
  {
   "cell_type": "code",
   "execution_count": 14,
   "id": "557f4fad",
   "metadata": {},
   "outputs": [],
   "source": [
    "# Saving age visualization\n",
    "\n",
    "age_bar.figure.savefig(os.path.join(path,'04 Analysis','Visualizations','age_bar.png'))"
   ]
  },
  {
   "cell_type": "markdown",
   "id": "5381d710",
   "metadata": {},
   "source": [
    "## 02.3 Income category"
   ]
  },
  {
   "cell_type": "code",
   "execution_count": 9,
   "id": "b27fb1a6",
   "metadata": {},
   "outputs": [],
   "source": [
    "# Creating income categories\n",
    "\n",
    "df.loc[(df['income']<20000),'income_category']='under 20k'\n",
    "df.loc[(df['income']>=20000)&(df['income']<50000),'income_category']='20k-50k'\n",
    "df.loc[(df['income']>=50000)&(df['income']<80000),'income_category']='50k-80k'\n",
    "df.loc[(df['income']>=80000)&(df['income']<=120000),'income_category']='80k-120k'\n",
    "df.loc[df['income']>120000,'income_category']='120k+'"
   ]
  },
  {
   "cell_type": "code",
   "execution_count": 10,
   "id": "4aa551eb",
   "metadata": {},
   "outputs": [
    {
     "data": {
      "text/plain": [
       "80k-120k    10803380\n",
       "120k+        9187614\n",
       "50k-80k      7636276\n",
       "20k-50k      3366219\n",
       "Name: income_category, dtype: int64"
      ]
     },
     "execution_count": 10,
     "metadata": {},
     "output_type": "execute_result"
    }
   ],
   "source": [
    "df['income_category'].value_counts()"
   ]
  },
  {
   "cell_type": "code",
   "execution_count": 21,
   "id": "27fc02d8",
   "metadata": {
    "scrolled": false
   },
   "outputs": [
    {
     "data": {
      "image/png": "[encoded data removed]",
      "text/plain": [
       "<Figure size 432x288 with 1 Axes>"
      ]
     },
     "metadata": {
      "needs_background": "light"
     },
     "output_type": "display_data"
    }
   ],
   "source": [
    "# Visualization based on income category\n",
    "\n",
    "income_bar=df['income_category'].value_counts().plot.bar()"
   ]
  },
  {
   "cell_type": "code",
   "execution_count": 22,
   "id": "d8e41df7",
   "metadata": {
    "scrolled": true
   },
   "outputs": [],
   "source": [
    "# Saving income visualization\n",
    "\n",
    "income_bar.figure.savefig(os.path.join(path,'04 Analysis','Visualizations','income_bar.png'))"
   ]
  },
  {
   "cell_type": "markdown",
   "id": "04f83a65",
   "metadata": {},
   "source": [
    "# 03. Aggregating usage and expenditure"
   ]
  },
  {
   "cell_type": "markdown",
   "id": "5e02429a",
   "metadata": {},
   "source": [
    "## 03.1 Usage"
   ]
  },
  {
   "cell_type": "code",
   "execution_count": 11,
   "id": "5558d484",
   "metadata": {},
   "outputs": [],
   "source": [
    "# Creating 'min_usage' column to show minimum days since prior order grouped by user\n",
    "\n",
    "df['min_usage']=df.groupby(['user_id'])['days_since_prior_order'].transform(np.min)"
   ]
  },
  {
   "cell_type": "code",
   "execution_count": 17,
   "id": "5045899e",
   "metadata": {},
   "outputs": [
    {
     "data": {
      "text/plain": [
       "0.0     9431658\n",
       "1.0     6550892\n",
       "2.0     3942905\n",
       "3.0     2671032\n",
       "4.0     1936605\n",
       "5.0     1733339\n",
       "6.0     1610905\n",
       "7.0     1059783\n",
       "8.0      460215\n",
       "9.0      282020\n",
       "10.0     203225\n",
       "13.0     168857\n",
       "11.0     165499\n",
       "14.0     155199\n",
       "12.0     145286\n",
       "15.0      77684\n",
       "30.0      54665\n",
       "16.0      47610\n",
       "17.0      39760\n",
       "21.0      39017\n",
       "20.0      37980\n",
       "18.0      33366\n",
       "19.0      32297\n",
       "22.0      23043\n",
       "23.0      17659\n",
       "28.0      16048\n",
       "27.0      13305\n",
       "26.0      12019\n",
       "24.0      11749\n",
       "25.0      11368\n",
       "29.0       8499\n",
       "Name: min_usage, dtype: int64"
      ]
     },
     "execution_count": 17,
     "metadata": {},
     "output_type": "execute_result"
    }
   ],
   "source": [
    "df['min_usage'].value_counts()"
   ]
  },
  {
   "cell_type": "code",
   "execution_count": 12,
   "id": "e1ff9f8b",
   "metadata": {},
   "outputs": [],
   "source": [
    "# Creating 'max_usage' column to show maxmimum days since prior order grouped by user\n",
    "\n",
    "df['max_usage']=df.groupby(['user_id'])['days_since_prior_order'].transform(np.max)"
   ]
  },
  {
   "cell_type": "code",
   "execution_count": 18,
   "id": "ed014e68",
   "metadata": {},
   "outputs": [
    {
     "data": {
      "text/plain": [
       "30.0    17486645\n",
       "21.0      960188\n",
       "15.0      871343\n",
       "14.0      868501\n",
       "22.0      814562\n",
       "28.0      798577\n",
       "20.0      725884\n",
       "16.0      635194\n",
       "23.0      625745\n",
       "17.0      623638\n",
       "19.0      600843\n",
       "18.0      588034\n",
       "29.0      587139\n",
       "27.0      579241\n",
       "13.0      559948\n",
       "25.0      541466\n",
       "24.0      536273\n",
       "26.0      519072\n",
       "12.0      451025\n",
       "11.0      380974\n",
       "10.0      353463\n",
       "9.0       286367\n",
       "8.0       256313\n",
       "7.0       161986\n",
       "6.0        67649\n",
       "5.0        65327\n",
       "4.0        35870\n",
       "3.0         8071\n",
       "2.0         3759\n",
       "1.0          309\n",
       "0.0           83\n",
       "Name: max_usage, dtype: int64"
      ]
     },
     "execution_count": 18,
     "metadata": {},
     "output_type": "execute_result"
    }
   ],
   "source": [
    "df['max_usage'].value_counts()"
   ]
  },
  {
   "cell_type": "code",
   "execution_count": 13,
   "id": "d0161f72",
   "metadata": {},
   "outputs": [],
   "source": [
    "# Creating 'avg_usage' column to show average days since prior order grouped by user\n",
    "\n",
    "df['avg_usage']=df.groupby(['user_id'])['days_since_prior_order'].transform(np.mean)"
   ]
  },
  {
   "cell_type": "code",
   "execution_count": 19,
   "id": "100f6dd5",
   "metadata": {},
   "outputs": [
    {
     "data": {
      "text/plain": [
       "30.000000    54665\n",
       "7.000000     14367\n",
       "14.000000    11697\n",
       "9.000000     11220\n",
       "16.000000    11048\n",
       "             ...  \n",
       "2.111111        11\n",
       "1.555556        10\n",
       "4.222222        10\n",
       "1.125000        10\n",
       "0.571429         8\n",
       "Name: avg_usage, Length: 98107, dtype: int64"
      ]
     },
     "execution_count": 19,
     "metadata": {},
     "output_type": "execute_result"
    }
   ],
   "source": [
    "df['avg_usage'].value_counts()"
   ]
  },
  {
   "cell_type": "markdown",
   "id": "68fecd4c",
   "metadata": {},
   "source": [
    "## 03.2 Expenditure"
   ]
  },
  {
   "cell_type": "code",
   "execution_count": 14,
   "id": "62ac01ab",
   "metadata": {},
   "outputs": [],
   "source": [
    "# Creating 'min_expenditure' column to show minimum price paid grouped by user\n",
    "\n",
    "df['min_expenditure']=df.groupby(['user_id'])['prices'].transform(np.min)"
   ]
  },
  {
   "cell_type": "code",
   "execution_count": 20,
   "id": "2fa43fa4",
   "metadata": {},
   "outputs": [
    {
     "data": {
      "text/plain": [
       "1.0     10994894\n",
       "1.1     10366798\n",
       "1.2      4562676\n",
       "1.3      2715463\n",
       "1.4      1017173\n",
       "          ...   \n",
       "12.0           6\n",
       "12.2           5\n",
       "11.4           5\n",
       "12.4           5\n",
       "11.9           5\n",
       "Name: min_expenditure, Length: 130, dtype: int64"
      ]
     },
     "execution_count": 20,
     "metadata": {},
     "output_type": "execute_result"
    }
   ],
   "source": [
    "df['min_expenditure'].value_counts()"
   ]
  },
  {
   "cell_type": "code",
   "execution_count": 15,
   "id": "11f1ea96",
   "metadata": {},
   "outputs": [],
   "source": [
    "# Creating 'max_expenditure' column to show maximum price paid grouped by user\n",
    "\n",
    "df['max_expenditure']=df.groupby(['user_id'])['prices'].transform(np.max)"
   ]
  },
  {
   "cell_type": "code",
   "execution_count": 22,
   "id": "73fdec7b",
   "metadata": {},
   "outputs": [
    {
     "data": {
      "text/plain": [
       "14.9    2740907\n",
       "15.0    2591814\n",
       "25.0    1662115\n",
       "14.8    1615187\n",
       "24.2    1609731\n",
       "         ...   \n",
       "1.5           8\n",
       "3.3           7\n",
       "1.7           7\n",
       "3.5           7\n",
       "1.1           7\n",
       "Name: max_expenditure, Length: 235, dtype: int64"
      ]
     },
     "execution_count": 22,
     "metadata": {},
     "output_type": "execute_result"
    }
   ],
   "source": [
    "df['max_expenditure'].value_counts()"
   ]
  },
  {
   "cell_type": "code",
   "execution_count": 16,
   "id": "989576d8",
   "metadata": {},
   "outputs": [],
   "source": [
    "# Creating 'avg_expenditure' column to show mean price paid grouped by user\n",
    "\n",
    "df['avg_expenditure']=df.groupby(['user_id'])['prices'].transform(np.mean)"
   ]
  },
  {
   "cell_type": "code",
   "execution_count": 21,
   "id": "a84f2b94",
   "metadata": {},
   "outputs": [
    {
     "data": {
      "text/plain": [
       "8.00     8874\n",
       "7.50     7485\n",
       "7.75     6425\n",
       "7.40     6371\n",
       "8.10     6267\n",
       "         ... \n",
       "3.86        5\n",
       "2.34        5\n",
       "10.68       5\n",
       "13.90       5\n",
       "5.16        5\n",
       "Name: avg_expenditure, Length: 119861, dtype: int64"
      ]
     },
     "execution_count": 21,
     "metadata": {},
     "output_type": "execute_result"
    }
   ],
   "source": [
    "df['avg_expenditure'].value_counts()"
   ]
  },
  {
   "cell_type": "markdown",
   "id": "3660e839",
   "metadata": {},
   "source": [
    "# 04. Crosstabs"
   ]
  },
  {
   "cell_type": "markdown",
   "id": "93a0d33d",
   "metadata": {},
   "source": [
    "## 04.1 Region x Income category"
   ]
  },
  {
   "cell_type": "code",
   "execution_count": 33,
   "id": "c68a407e",
   "metadata": {},
   "outputs": [],
   "source": [
    "crosstab_region=pd.crosstab(df['region'],df['income_category'],normalize='index',dropna=False)"
   ]
  },
  {
   "cell_type": "code",
   "execution_count": 34,
   "id": "c30fc768",
   "metadata": {},
   "outputs": [
    {
     "data": {
      "text/html": [
       "<div>\n",
       "<style scoped>\n",
       "    .dataframe tbody tr th:only-of-type {\n",
       "        vertical-align: middle;\n",
       "    }\n",
       "\n",
       "    .dataframe tbody tr th {\n",
       "        vertical-align: top;\n",
       "    }\n",
       "\n",
       "    .dataframe thead th {\n",
       "        text-align: right;\n",
       "    }\n",
       "</style>\n",
       "<table border=\"1\" class=\"dataframe\">\n",
       "  <thead>\n",
       "    <tr style=\"text-align: right;\">\n",
       "      <th>income_category</th>\n",
       "      <th>120k+</th>\n",
       "      <th>20k-50k</th>\n",
       "      <th>50k-80k</th>\n",
       "      <th>80k-120k</th>\n",
       "    </tr>\n",
       "    <tr>\n",
       "      <th>region</th>\n",
       "      <th></th>\n",
       "      <th></th>\n",
       "      <th></th>\n",
       "      <th></th>\n",
       "    </tr>\n",
       "  </thead>\n",
       "  <tbody>\n",
       "    <tr>\n",
       "      <th>Midwest</th>\n",
       "      <td>0.301418</td>\n",
       "      <td>0.107945</td>\n",
       "      <td>0.242556</td>\n",
       "      <td>0.348081</td>\n",
       "    </tr>\n",
       "    <tr>\n",
       "      <th>Northeast</th>\n",
       "      <td>0.298072</td>\n",
       "      <td>0.107465</td>\n",
       "      <td>0.241535</td>\n",
       "      <td>0.352928</td>\n",
       "    </tr>\n",
       "    <tr>\n",
       "      <th>South</th>\n",
       "      <td>0.293200</td>\n",
       "      <td>0.110836</td>\n",
       "      <td>0.248223</td>\n",
       "      <td>0.347741</td>\n",
       "    </tr>\n",
       "    <tr>\n",
       "      <th>West</th>\n",
       "      <td>0.294958</td>\n",
       "      <td>0.107115</td>\n",
       "      <td>0.250838</td>\n",
       "      <td>0.347089</td>\n",
       "    </tr>\n",
       "  </tbody>\n",
       "</table>\n",
       "</div>"
      ],
      "text/plain": [
       "income_category     120k+   20k-50k   50k-80k  80k-120k\n",
       "region                                                 \n",
       "Midwest          0.301418  0.107945  0.242556  0.348081\n",
       "Northeast        0.298072  0.107465  0.241535  0.352928\n",
       "South            0.293200  0.110836  0.248223  0.347741\n",
       "West             0.294958  0.107115  0.250838  0.347089"
      ]
     },
     "execution_count": 34,
     "metadata": {},
     "output_type": "execute_result"
    }
   ],
   "source": [
    "crosstab_region\n",
    "\n",
    "# Shows income level as decimal percentage within region"
   ]
  },
  {
   "cell_type": "code",
   "execution_count": 45,
   "id": "18073279",
   "metadata": {},
   "outputs": [
    {
     "data": {
      "text/plain": [
       "income_category\n",
       "120k+       7.952075\n",
       "20k-50k     6.707214\n",
       "50k-80k     7.837894\n",
       "80k-120k    7.957254\n",
       "Name: avg_expenditure, dtype: float64"
      ]
     },
     "execution_count": 45,
     "metadata": {},
     "output_type": "execute_result"
    }
   ],
   "source": [
    "df.groupby('income_category')['avg_expenditure'].mean()"
   ]
  },
  {
   "cell_type": "code",
   "execution_count": 46,
   "id": "1084496f",
   "metadata": {},
   "outputs": [
    {
     "data": {
      "text/plain": [
       "income_category\n",
       "120k+       10.944742\n",
       "20k-50k     11.384614\n",
       "50k-80k     10.933175\n",
       "80k-120k    10.968072\n",
       "Name: avg_usage, dtype: float64"
      ]
     },
     "execution_count": 46,
     "metadata": {},
     "output_type": "execute_result"
    }
   ],
   "source": [
    "df.groupby('income_category')['avg_usage'].mean()"
   ]
  },
  {
   "cell_type": "markdown",
   "id": "74df198a",
   "metadata": {},
   "source": [
    "**Midwest has the highest percentage of the top income group, while the South has the lowest**"
   ]
  },
  {
   "cell_type": "markdown",
   "id": "07669720",
   "metadata": {},
   "source": [
    "## 04.2 Region x Age category"
   ]
  },
  {
   "cell_type": "code",
   "execution_count": 36,
   "id": "c784533d",
   "metadata": {},
   "outputs": [],
   "source": [
    "crosstab_age=pd.crosstab(df['region'],df['age_category'],normalize='index',dropna=False)"
   ]
  },
  {
   "cell_type": "code",
   "execution_count": 37,
   "id": "0def4a1d",
   "metadata": {},
   "outputs": [
    {
     "data": {
      "text/html": [
       "<div>\n",
       "<style scoped>\n",
       "    .dataframe tbody tr th:only-of-type {\n",
       "        vertical-align: middle;\n",
       "    }\n",
       "\n",
       "    .dataframe tbody tr th {\n",
       "        vertical-align: top;\n",
       "    }\n",
       "\n",
       "    .dataframe thead th {\n",
       "        text-align: right;\n",
       "    }\n",
       "</style>\n",
       "<table border=\"1\" class=\"dataframe\">\n",
       "  <thead>\n",
       "    <tr style=\"text-align: right;\">\n",
       "      <th>age_category</th>\n",
       "      <th>18-29</th>\n",
       "      <th>30-39</th>\n",
       "      <th>40-49</th>\n",
       "      <th>50-59</th>\n",
       "      <th>60+</th>\n",
       "    </tr>\n",
       "    <tr>\n",
       "      <th>region</th>\n",
       "      <th></th>\n",
       "      <th></th>\n",
       "      <th></th>\n",
       "      <th></th>\n",
       "      <th></th>\n",
       "    </tr>\n",
       "  </thead>\n",
       "  <tbody>\n",
       "    <tr>\n",
       "      <th>Midwest</th>\n",
       "      <td>0.189281</td>\n",
       "      <td>0.157393</td>\n",
       "      <td>0.164024</td>\n",
       "      <td>0.160304</td>\n",
       "      <td>0.328999</td>\n",
       "    </tr>\n",
       "    <tr>\n",
       "      <th>Northeast</th>\n",
       "      <td>0.190027</td>\n",
       "      <td>0.157266</td>\n",
       "      <td>0.159483</td>\n",
       "      <td>0.157578</td>\n",
       "      <td>0.335646</td>\n",
       "    </tr>\n",
       "    <tr>\n",
       "      <th>South</th>\n",
       "      <td>0.193163</td>\n",
       "      <td>0.162293</td>\n",
       "      <td>0.157722</td>\n",
       "      <td>0.155704</td>\n",
       "      <td>0.331119</td>\n",
       "    </tr>\n",
       "    <tr>\n",
       "      <th>West</th>\n",
       "      <td>0.189378</td>\n",
       "      <td>0.157047</td>\n",
       "      <td>0.159988</td>\n",
       "      <td>0.162062</td>\n",
       "      <td>0.331524</td>\n",
       "    </tr>\n",
       "  </tbody>\n",
       "</table>\n",
       "</div>"
      ],
      "text/plain": [
       "age_category     18-29     30-39     40-49     50-59       60+\n",
       "region                                                        \n",
       "Midwest       0.189281  0.157393  0.164024  0.160304  0.328999\n",
       "Northeast     0.190027  0.157266  0.159483  0.157578  0.335646\n",
       "South         0.193163  0.162293  0.157722  0.155704  0.331119\n",
       "West          0.189378  0.157047  0.159988  0.162062  0.331524"
      ]
     },
     "execution_count": 37,
     "metadata": {},
     "output_type": "execute_result"
    }
   ],
   "source": [
    "crosstab_age"
   ]
  },
  {
   "cell_type": "code",
   "execution_count": 38,
   "id": "ad3d61e9",
   "metadata": {},
   "outputs": [
    {
     "data": {
      "text/plain": [
       "age_category\n",
       "18-29    7.782131\n",
       "30-39    7.787918\n",
       "40-49    7.798170\n",
       "50-59    7.784906\n",
       "60+      7.796127\n",
       "Name: avg_expenditure, dtype: float64"
      ]
     },
     "execution_count": 38,
     "metadata": {},
     "output_type": "execute_result"
    }
   ],
   "source": [
    "df.groupby('age_category')['avg_expenditure'].mean()"
   ]
  },
  {
   "cell_type": "code",
   "execution_count": 43,
   "id": "8503b63b",
   "metadata": {},
   "outputs": [
    {
     "data": {
      "text/plain": [
       "age_category\n",
       "18-29    10.998817\n",
       "30-39    10.992137\n",
       "40-49    10.985938\n",
       "50-59    11.032097\n",
       "60+      10.980563\n",
       "Name: avg_usage, dtype: float64"
      ]
     },
     "execution_count": 43,
     "metadata": {},
     "output_type": "execute_result"
    }
   ],
   "source": [
    "df.groupby('age_category')['avg_usage'].mean()"
   ]
  },
  {
   "cell_type": "markdown",
   "id": "01be139a",
   "metadata": {},
   "source": [
    "## 04.3 Region x Family category"
   ]
  },
  {
   "cell_type": "code",
   "execution_count": 39,
   "id": "8fba2da0",
   "metadata": {},
   "outputs": [],
   "source": [
    "crosstab_family=pd.crosstab(df['region'],df['family_category'],normalize='index',dropna=False)"
   ]
  },
  {
   "cell_type": "code",
   "execution_count": 40,
   "id": "91bb6e66",
   "metadata": {},
   "outputs": [
    {
     "data": {
      "text/html": [
       "<div>\n",
       "<style scoped>\n",
       "    .dataframe tbody tr th:only-of-type {\n",
       "        vertical-align: middle;\n",
       "    }\n",
       "\n",
       "    .dataframe tbody tr th {\n",
       "        vertical-align: top;\n",
       "    }\n",
       "\n",
       "    .dataframe thead th {\n",
       "        text-align: right;\n",
       "    }\n",
       "</style>\n",
       "<table border=\"1\" class=\"dataframe\">\n",
       "  <thead>\n",
       "    <tr style=\"text-align: right;\">\n",
       "      <th>family_category</th>\n",
       "      <th>married with children</th>\n",
       "      <th>no children</th>\n",
       "      <th>single with children</th>\n",
       "    </tr>\n",
       "    <tr>\n",
       "      <th>region</th>\n",
       "      <th></th>\n",
       "      <th></th>\n",
       "      <th></th>\n",
       "    </tr>\n",
       "  </thead>\n",
       "  <tbody>\n",
       "    <tr>\n",
       "      <th>Midwest</th>\n",
       "      <td>0.700570</td>\n",
       "      <td>0.251037</td>\n",
       "      <td>0.048393</td>\n",
       "    </tr>\n",
       "    <tr>\n",
       "      <th>Northeast</th>\n",
       "      <td>0.705195</td>\n",
       "      <td>0.247861</td>\n",
       "      <td>0.046944</td>\n",
       "    </tr>\n",
       "    <tr>\n",
       "      <th>South</th>\n",
       "      <td>0.700564</td>\n",
       "      <td>0.250414</td>\n",
       "      <td>0.049023</td>\n",
       "    </tr>\n",
       "    <tr>\n",
       "      <th>West</th>\n",
       "      <td>0.703752</td>\n",
       "      <td>0.249837</td>\n",
       "      <td>0.046412</td>\n",
       "    </tr>\n",
       "  </tbody>\n",
       "</table>\n",
       "</div>"
      ],
      "text/plain": [
       "family_category  married with children  no children  single with children\n",
       "region                                                                   \n",
       "Midwest                       0.700570     0.251037              0.048393\n",
       "Northeast                     0.705195     0.247861              0.046944\n",
       "South                         0.700564     0.250414              0.049023\n",
       "West                          0.703752     0.249837              0.046412"
      ]
     },
     "execution_count": 40,
     "metadata": {},
     "output_type": "execute_result"
    }
   ],
   "source": [
    "crosstab_family"
   ]
  },
  {
   "cell_type": "code",
   "execution_count": 44,
   "id": "b34a4f54",
   "metadata": {},
   "outputs": [
    {
     "data": {
      "text/plain": [
       "family_category\n",
       "married with children    7.790229\n",
       "no children              7.789525\n",
       "single with children     7.800463\n",
       "Name: avg_expenditure, dtype: float64"
      ]
     },
     "execution_count": 44,
     "metadata": {},
     "output_type": "execute_result"
    }
   ],
   "source": [
    "df.groupby('family_category')['avg_expenditure'].mean()"
   ]
  },
  {
   "cell_type": "code",
   "execution_count": 45,
   "id": "efd5796b",
   "metadata": {},
   "outputs": [
    {
     "data": {
      "text/plain": [
       "family_category\n",
       "married with children    11.008062\n",
       "no children              10.980874\n",
       "single with children     10.935579\n",
       "Name: avg_usage, dtype: float64"
      ]
     },
     "execution_count": 45,
     "metadata": {},
     "output_type": "execute_result"
    }
   ],
   "source": [
    "df.groupby('family_category')['avg_usage'].mean()"
   ]
  },
  {
   "cell_type": "markdown",
   "id": "22d94298",
   "metadata": {},
   "source": [
    "# 05. Export"
   ]
  },
  {
   "cell_type": "code",
   "execution_count": 46,
   "id": "63f82dfe",
   "metadata": {},
   "outputs": [],
   "source": [
    "df.to_pickle(os.path.join(path,'02 Data','Prepared Data','master2.pkl'))"
   ]
  }
 ],
 "metadata": {
  "kernelspec": {
   "display_name": "Python 3 (ipykernel)",
   "language": "python",
   "name": "python3"
  },
  "language_info": {
   "codemirror_mode": {
    "name": "ipython",
    "version": 3
   },
   "file_extension": ".py",
   "mimetype": "text/x-python",
   "name": "python",
   "nbconvert_exporter": "python",
   "pygments_lexer": "ipython3",
   "version": "3.9.12"
  }
 },
 "nbformat": 4,
 "nbformat_minor": 5
}
