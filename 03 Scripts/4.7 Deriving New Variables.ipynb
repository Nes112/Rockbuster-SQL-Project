{
 "cells": [
  {
   "cell_type": "markdown",
   "id": "fb6243db",
   "metadata": {},
   "source": [
    "**Contents**\n",
    "\n",
    "01 Importing Libraries and Data\n",
    "\n",
    "02 Price_label function (with loop)\n",
    "\n",
    "02.1 Alternate price_label function (with .loc)\n",
    "\n",
    "03 Busiest day of week variable\n",
    "\n",
    "04 Busiest days of the week variable\n",
    "\n",
    "05 Busiest hours of the day variable\n",
    "\n",
    "06 Export"
   ]
  },
  {
   "cell_type": "markdown",
   "id": "44b3f72e",
   "metadata": {},
   "source": [
    "# 01. Importing Libraries and Data"
   ]
  },
  {
   "cell_type": "code",
   "execution_count": 2,
   "id": "8cc40050",
   "metadata": {},
   "outputs": [],
   "source": [
    "# Import libraries\n",
    "import pandas as pd\n",
    "import numpy as np\n",
    "import os"
   ]
  },
  {
   "cell_type": "code",
   "execution_count": 1,
   "id": "e01833eb",
   "metadata": {},
   "outputs": [],
   "source": [
    "# Set Path\n",
    "path = r'C:\\Users\\Forrest\\Desktop\\Work\\CareerFoundry\\Python\\2022-10 Instacart Basket Analysis'"
   ]
  },
  {
   "cell_type": "code",
   "execution_count": 3,
   "id": "b434df20",
   "metadata": {},
   "outputs": [],
   "source": [
    "# Import orders_products_master\n",
    "df = pd.read_pickle(os.path.join(path, '02 Data', 'Prepared Data', 'orders_products_master.pkl'))"
   ]
  },
  {
   "cell_type": "code",
   "execution_count": 35,
   "id": "5e01646b",
   "metadata": {},
   "outputs": [
    {
     "data": {
      "text/html": [
       "<div>\n",
       "<style scoped>\n",
       "    .dataframe tbody tr th:only-of-type {\n",
       "        vertical-align: middle;\n",
       "    }\n",
       "\n",
       "    .dataframe tbody tr th {\n",
       "        vertical-align: top;\n",
       "    }\n",
       "\n",
       "    .dataframe thead th {\n",
       "        text-align: right;\n",
       "    }\n",
       "</style>\n",
       "<table border=\"1\" class=\"dataframe\">\n",
       "  <thead>\n",
       "    <tr style=\"text-align: right;\">\n",
       "      <th></th>\n",
       "      <th>order_id</th>\n",
       "      <th>user_id</th>\n",
       "      <th>order_number</th>\n",
       "      <th>orders_day_of_week</th>\n",
       "      <th>order_hour_of_day</th>\n",
       "      <th>days_since_prior_order</th>\n",
       "      <th>product_id</th>\n",
       "      <th>add_to_cart_order</th>\n",
       "      <th>reordered</th>\n",
       "      <th>product_name</th>\n",
       "      <th>aisle_id</th>\n",
       "      <th>department_id</th>\n",
       "      <th>prices</th>\n",
       "      <th>_merge</th>\n",
       "      <th>price_range_loc</th>\n",
       "      <th>busiest_day</th>\n",
       "      <th>busiest_days</th>\n",
       "    </tr>\n",
       "  </thead>\n",
       "  <tbody>\n",
       "    <tr>\n",
       "      <th>0</th>\n",
       "      <td>2539329</td>\n",
       "      <td>1</td>\n",
       "      <td>1</td>\n",
       "      <td>2</td>\n",
       "      <td>8</td>\n",
       "      <td>NaN</td>\n",
       "      <td>196</td>\n",
       "      <td>1</td>\n",
       "      <td>0</td>\n",
       "      <td>Soda</td>\n",
       "      <td>77.0</td>\n",
       "      <td>7.0</td>\n",
       "      <td>9.0</td>\n",
       "      <td>both</td>\n",
       "      <td>Mid-range product</td>\n",
       "      <td>Regularly busy</td>\n",
       "      <td>Regularly busy days</td>\n",
       "    </tr>\n",
       "    <tr>\n",
       "      <th>1</th>\n",
       "      <td>2539329</td>\n",
       "      <td>1</td>\n",
       "      <td>1</td>\n",
       "      <td>2</td>\n",
       "      <td>8</td>\n",
       "      <td>NaN</td>\n",
       "      <td>14084</td>\n",
       "      <td>2</td>\n",
       "      <td>0</td>\n",
       "      <td>Organic Unsweetened Vanilla Almond Milk</td>\n",
       "      <td>91.0</td>\n",
       "      <td>16.0</td>\n",
       "      <td>12.5</td>\n",
       "      <td>both</td>\n",
       "      <td>Mid-range product</td>\n",
       "      <td>Regularly busy</td>\n",
       "      <td>Regularly busy days</td>\n",
       "    </tr>\n",
       "    <tr>\n",
       "      <th>2</th>\n",
       "      <td>2539329</td>\n",
       "      <td>1</td>\n",
       "      <td>1</td>\n",
       "      <td>2</td>\n",
       "      <td>8</td>\n",
       "      <td>NaN</td>\n",
       "      <td>12427</td>\n",
       "      <td>3</td>\n",
       "      <td>0</td>\n",
       "      <td>Original Beef Jerky</td>\n",
       "      <td>23.0</td>\n",
       "      <td>19.0</td>\n",
       "      <td>4.4</td>\n",
       "      <td>both</td>\n",
       "      <td>Low-range product</td>\n",
       "      <td>Regularly busy</td>\n",
       "      <td>Regularly busy days</td>\n",
       "    </tr>\n",
       "    <tr>\n",
       "      <th>3</th>\n",
       "      <td>2539329</td>\n",
       "      <td>1</td>\n",
       "      <td>1</td>\n",
       "      <td>2</td>\n",
       "      <td>8</td>\n",
       "      <td>NaN</td>\n",
       "      <td>26088</td>\n",
       "      <td>4</td>\n",
       "      <td>0</td>\n",
       "      <td>Aged White Cheddar Popcorn</td>\n",
       "      <td>23.0</td>\n",
       "      <td>19.0</td>\n",
       "      <td>4.7</td>\n",
       "      <td>both</td>\n",
       "      <td>Low-range product</td>\n",
       "      <td>Regularly busy</td>\n",
       "      <td>Regularly busy days</td>\n",
       "    </tr>\n",
       "    <tr>\n",
       "      <th>4</th>\n",
       "      <td>2539329</td>\n",
       "      <td>1</td>\n",
       "      <td>1</td>\n",
       "      <td>2</td>\n",
       "      <td>8</td>\n",
       "      <td>NaN</td>\n",
       "      <td>26405</td>\n",
       "      <td>5</td>\n",
       "      <td>0</td>\n",
       "      <td>XL Pick-A-Size Paper Towel Rolls</td>\n",
       "      <td>54.0</td>\n",
       "      <td>17.0</td>\n",
       "      <td>1.0</td>\n",
       "      <td>both</td>\n",
       "      <td>Low-range product</td>\n",
       "      <td>Regularly busy</td>\n",
       "      <td>Regularly busy days</td>\n",
       "    </tr>\n",
       "  </tbody>\n",
       "</table>\n",
       "</div>"
      ],
      "text/plain": [
       "   order_id  user_id  order_number  orders_day_of_week  order_hour_of_day  \\\n",
       "0   2539329        1             1                   2                  8   \n",
       "1   2539329        1             1                   2                  8   \n",
       "2   2539329        1             1                   2                  8   \n",
       "3   2539329        1             1                   2                  8   \n",
       "4   2539329        1             1                   2                  8   \n",
       "\n",
       "   days_since_prior_order  product_id  add_to_cart_order  reordered  \\\n",
       "0                     NaN         196                  1          0   \n",
       "1                     NaN       14084                  2          0   \n",
       "2                     NaN       12427                  3          0   \n",
       "3                     NaN       26088                  4          0   \n",
       "4                     NaN       26405                  5          0   \n",
       "\n",
       "                              product_name  aisle_id  department_id  prices  \\\n",
       "0                                     Soda      77.0            7.0     9.0   \n",
       "1  Organic Unsweetened Vanilla Almond Milk      91.0           16.0    12.5   \n",
       "2                      Original Beef Jerky      23.0           19.0     4.4   \n",
       "3               Aged White Cheddar Popcorn      23.0           19.0     4.7   \n",
       "4         XL Pick-A-Size Paper Towel Rolls      54.0           17.0     1.0   \n",
       "\n",
       "  _merge    price_range_loc     busiest_day         busiest_days  \n",
       "0   both  Mid-range product  Regularly busy  Regularly busy days  \n",
       "1   both  Mid-range product  Regularly busy  Regularly busy days  \n",
       "2   both  Low-range product  Regularly busy  Regularly busy days  \n",
       "3   both  Low-range product  Regularly busy  Regularly busy days  \n",
       "4   both  Low-range product  Regularly busy  Regularly busy days  "
      ]
     },
     "execution_count": 35,
     "metadata": {},
     "output_type": "execute_result"
    }
   ],
   "source": [
    "df.head(5)"
   ]
  },
  {
   "cell_type": "code",
   "execution_count": 6,
   "id": "d5d402bd",
   "metadata": {},
   "outputs": [],
   "source": [
    "# Creating subset of master df\n",
    "df_subset = df[:1000000]"
   ]
  },
  {
   "cell_type": "markdown",
   "id": "fe9a336b",
   "metadata": {},
   "source": [
    "# 02. Price_label function (with if loop)"
   ]
  },
  {
   "cell_type": "code",
   "execution_count": 7,
   "id": "312c8493",
   "metadata": {},
   "outputs": [],
   "source": [
    "# Define \"price_label\" function\n",
    "\n",
    "def price_label(row):\n",
    "\n",
    "  if row['prices'] <= 5:\n",
    "    return 'Low-range product'\n",
    "  elif (row['prices'] > 5) and (row['prices'] <= 15):\n",
    "    return 'Mid-range product'\n",
    "  elif row['prices'] > 15:\n",
    "    return 'High range'\n",
    "  else: return 'Not enough data'"
   ]
  },
  {
   "cell_type": "code",
   "execution_count": null,
   "id": "262c5e2c",
   "metadata": {},
   "outputs": [],
   "source": [
    "# Add \"price_label\" function to new column \"price_range\"\n",
    "\n",
    "df_subset['price_range'] = df_subset.apply(price_label, axis=1)"
   ]
  },
  {
   "cell_type": "markdown",
   "id": "738ab06e",
   "metadata": {},
   "source": [
    "## 02.1 Alternate price_label function (with .loc)"
   ]
  },
  {
   "cell_type": "code",
   "execution_count": 10,
   "id": "acf643ef",
   "metadata": {},
   "outputs": [],
   "source": [
    "df.loc[df['prices'] > 15, 'price_range_loc'] = 'High-range product'"
   ]
  },
  {
   "cell_type": "code",
   "execution_count": 11,
   "id": "1a92e267",
   "metadata": {},
   "outputs": [],
   "source": [
    "df.loc[(df['prices'] <= 15) & (df['prices'] > 5), 'price_range_loc'] = 'Mid-range product' "
   ]
  },
  {
   "cell_type": "code",
   "execution_count": 12,
   "id": "5d4eff1f",
   "metadata": {},
   "outputs": [],
   "source": [
    "df.loc[df['prices'] <= 5, 'price_range_loc'] = 'Low-range product'"
   ]
  },
  {
   "cell_type": "code",
   "execution_count": 13,
   "id": "35f0d68a",
   "metadata": {},
   "outputs": [
    {
     "data": {
      "text/plain": [
       "Mid-range product     21860860\n",
       "Low-range product     10126321\n",
       "High-range product      412551\n",
       "NaN                      35327\n",
       "Name: price_range_loc, dtype: int64"
      ]
     },
     "execution_count": 13,
     "metadata": {},
     "output_type": "execute_result"
    }
   ],
   "source": [
    "df['price_range_loc'].value_counts(dropna = False)"
   ]
  },
  {
   "cell_type": "markdown",
   "id": "c0d1ecef",
   "metadata": {},
   "source": [
    "# 03. Busiest day of week variable"
   ]
  },
  {
   "cell_type": "code",
   "execution_count": 14,
   "id": "2aecf101",
   "metadata": {},
   "outputs": [],
   "source": [
    "#Creating list called 'result'. Return string 'Busiest day', 'Least busy', or 'Regularly busy' based on order_day_of_week.\n",
    "\n",
    "result = []\n",
    "\n",
    "for value in df[\"orders_day_of_week\"]:\n",
    "  if value == 0:\n",
    "    result.append(\"Busiest day\")\n",
    "  elif value == 4:\n",
    "    result.append(\"Least busy\")\n",
    "  else:\n",
    "    result.append(\"Regularly busy\")"
   ]
  },
  {
   "cell_type": "code",
   "execution_count": 15,
   "id": "c132077d",
   "metadata": {},
   "outputs": [],
   "source": [
    "# Adding column with busiest day result\n",
    "\n",
    "df['busiest_day'] = result"
   ]
  },
  {
   "cell_type": "code",
   "execution_count": 22,
   "id": "a0d7bc8f",
   "metadata": {},
   "outputs": [
    {
     "data": {
      "text/plain": [
       "Regularly busy    22437988\n",
       "Busiest day        6209808\n",
       "Least busy         3787263\n",
       "Name: busiest_day, dtype: int64"
      ]
     },
     "execution_count": 22,
     "metadata": {},
     "output_type": "execute_result"
    }
   ],
   "source": [
    "df['busiest_day'].value_counts()"
   ]
  },
  {
   "cell_type": "markdown",
   "id": "0d3a05a2",
   "metadata": {},
   "source": [
    "# 04. Busiest *days* of the week variable "
   ]
  },
  {
   "cell_type": "code",
   "execution_count": 78,
   "id": "ffb61c14",
   "metadata": {},
   "outputs": [],
   "source": [
    "#Creating list called 'busy_days'. Return string 'Busiest 2 days', 'Least busy 2 days', or 'Regularly busy days' based on order_day_of_week.\n",
    "\n",
    "busy_days = []\n",
    "\n",
    "for x in df[\"orders_day_of_week\"]:\n",
    "  if x in [0, 1]:\n",
    "    busy_days.append(\"Busiest 2 days\")\n",
    "  elif x in [4, 3]:\n",
    "    busy_days.append(\"Least busy 2 days\")\n",
    "  elif x in [2, 5, 6]:\n",
    "    busy_days.append(\"Regularly busy days\")\n",
    "  else:\n",
    "    busy_days.append(\"No data\")"
   ]
  },
  {
   "cell_type": "code",
   "execution_count": 79,
   "id": "7cf9b426",
   "metadata": {},
   "outputs": [],
   "source": [
    "# Adding column with busiest days result\n",
    "\n",
    "df['busiest_days'] = busy_days"
   ]
  },
  {
   "cell_type": "code",
   "execution_count": 80,
   "id": "93136837",
   "metadata": {},
   "outputs": [
    {
     "data": {
      "text/plain": [
       "Regularly busy days    12927862\n",
       "Busiest 2 days         11875759\n",
       "Least busy 2 days       7631438\n",
       "Name: busiest_days, dtype: int64"
      ]
     },
     "execution_count": 80,
     "metadata": {},
     "output_type": "execute_result"
    }
   ],
   "source": [
    "# Checking 'busiest_days' frequency table\n",
    "\n",
    "df['busiest_days'].value_counts()"
   ]
  },
  {
   "cell_type": "markdown",
   "id": "3851a6a1",
   "metadata": {},
   "source": [
    "Function appears to have worked correctly with no nulls or \"No Data\""
   ]
  },
  {
   "cell_type": "markdown",
   "id": "f1927fb0",
   "metadata": {},
   "source": [
    "# 05. Busiest hours of the day variable"
   ]
  },
  {
   "cell_type": "code",
   "execution_count": 88,
   "id": "217b42b5",
   "metadata": {},
   "outputs": [
    {
     "data": {
      "text/plain": [
       "10    2764476\n",
       "11    2738647\n",
       "14    2691598\n",
       "15    2664583\n",
       "13    2663346\n",
       "12    2620898\n",
       "16    2537506\n",
       "9     2456751\n",
       "17    2089510\n",
       "8     1719991\n",
       "18    1637956\n",
       "19    1259416\n",
       "20     977049\n",
       "7      891951\n",
       "21     796379\n",
       "22     634743\n",
       "23     402621\n",
       "6      290796\n",
       "0      218951\n",
       "1      115787\n",
       "5       88064\n",
       "2       69435\n",
       "4       53284\n",
       "3       51321\n",
       "Name: order_hour_of_day, dtype: int64"
      ]
     },
     "execution_count": 88,
     "metadata": {},
     "output_type": "execute_result"
    }
   ],
   "source": [
    "df['order_hour_of_day'].value_counts(dropna=False)"
   ]
  },
  {
   "cell_type": "code",
   "execution_count": 92,
   "id": "aefeb636",
   "metadata": {},
   "outputs": [],
   "source": [
    "#Creating list called 'busy_hours'. Return string based on order_hour_of_day.\n",
    "\n",
    "busy_hours = []\n",
    "\n",
    "for y in df[\"order_hour_of_day\"]:\n",
    "  if y in [9, 10, 11, 12, 13, 14, 15, 16]:\n",
    "    busy_hours.append(\"Most orders\")\n",
    "  elif y in [7, 8, 17, 18, 19, 20, 21, 22]:\n",
    "    busy_hours.append(\"Average orders\")\n",
    "  elif y in [0, 1, 2, 3, 4, 5, 6, 23]:\n",
    "    busy_hours.append(\"Fewest orders\")\n",
    "  else:\n",
    "    busy_hours.append(\"No data\")"
   ]
  },
  {
   "cell_type": "code",
   "execution_count": 93,
   "id": "15338ee0",
   "metadata": {},
   "outputs": [],
   "source": [
    "# Adding column with busiest hours result\n",
    "\n",
    "df['busiest_hours'] = busy_hours"
   ]
  },
  {
   "cell_type": "code",
   "execution_count": 94,
   "id": "dc482722",
   "metadata": {},
   "outputs": [
    {
     "data": {
      "text/plain": [
       "Most orders       21137805\n",
       "Average orders    10006995\n",
       "Fewest orders      1290259\n",
       "Name: busiest_hours, dtype: int64"
      ]
     },
     "execution_count": 94,
     "metadata": {},
     "output_type": "execute_result"
    }
   ],
   "source": [
    "# Checking 'busiest_hours' frequency table\n",
    "\n",
    "df['busiest_hours'].value_counts(dropna=False)"
   ]
  },
  {
   "cell_type": "markdown",
   "id": "331b8f29",
   "metadata": {},
   "source": [
    "Function appears to have worked correctly with no nulls or \"No Data\""
   ]
  },
  {
   "cell_type": "markdown",
   "id": "7775ca31",
   "metadata": {},
   "source": [
    "# 06. Export"
   ]
  },
  {
   "cell_type": "code",
   "execution_count": 96,
   "id": "6cf968ec",
   "metadata": {},
   "outputs": [],
   "source": [
    "# Exporting new df as pickle\n",
    "df.to_pickle(os.path.join(path, '02 Data','Prepared Data', 'orders_products_master_newcols.pkl'))"
   ]
  }
 ],
 "metadata": {
  "kernelspec": {
   "display_name": "Python 3 (ipykernel)",
   "language": "python",
   "name": "python3"
  },
  "language_info": {
   "codemirror_mode": {
    "name": "ipython",
    "version": 3
   },
   "file_extension": ".py",
   "mimetype": "text/x-python",
   "name": "python",
   "nbconvert_exporter": "python",
   "pygments_lexer": "ipython3",
   "version": "3.9.12"
  }
 },
 "nbformat": 4,
 "nbformat_minor": 5
}
